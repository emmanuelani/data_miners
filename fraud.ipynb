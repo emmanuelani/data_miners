{
 "cells": [
  {
   "cell_type": "code",
   "execution_count": 70,
   "metadata": {},
   "outputs": [],
   "source": [
    "import pandas as pd\n",
    "import numpy as np\n",
    "\n",
    "from xgboost import XGBClassifier\n",
    "from feature_engine.selection import DropConstantFeatures\n",
    "from sklearn.feature_selection import mutual_info_classif\n",
    "from sklearn.metrics import mutual_info_score\n",
    "from sklearn.model_selection import train_test_split"
   ]
  },
  {
   "cell_type": "markdown",
   "metadata": {},
   "source": [
    "#### Reading the data"
   ]
  },
  {
   "cell_type": "code",
   "execution_count": 7,
   "metadata": {},
   "outputs": [],
   "source": [
    "fraud_df = pd.read_csv(\"fraud_detection.csv\")\n"
   ]
  },
  {
   "cell_type": "markdown",
   "metadata": {},
   "source": [
    "#### Basic EDA"
   ]
  },
  {
   "cell_type": "code",
   "execution_count": 28,
   "metadata": {},
   "outputs": [
    {
     "data": {
      "text/plain": [
       "Index(['transaction_id', 'user_id', 'transaction_amount',\n",
       "       'transaction_date_and_time', 'merchant_id', 'payment_method',\n",
       "       'country_code', 'transaction_type', 'device_type', 'ip_address',\n",
       "       'browser_type', 'operating_system', 'merchant_category', 'user_age',\n",
       "       'user_occupation', 'user_income', 'user_gender', 'user_account_status',\n",
       "       'transaction_status', 'location_distance', 'time_taken_for_transaction',\n",
       "       'transaction_time_of_day', 'user's_transaction_history',\n",
       "       'merchant's_reputation_score', 'user's_device_location',\n",
       "       'transaction_currency', 'transaction_purpose', 'user's_credit_score',\n",
       "       'user's_email_domain', 'merchant's_business_age',\n",
       "       'transaction_authentication_method', 'fraudulent_flag'],\n",
       "      dtype='object')"
      ]
     },
     "execution_count": 28,
     "metadata": {},
     "output_type": "execute_result"
    }
   ],
   "source": [
    "# fraud_df.head()\n",
    "# fraud_df.shape\n",
    "fraud_df.columns"
   ]
  },
  {
   "cell_type": "code",
   "execution_count": 29,
   "metadata": {},
   "outputs": [],
   "source": [
    "features = [\"transaction_amount\", \"payment_method\", \"country_code\", \"transaction_type\",\n",
    " \"device_type\", \"ip_address\", \"browser_type\", \"operating_system\", \"merchant_category\",\n",
    "            \"user_age\", \"user_occupation\", \"user_income\", \"user_gender\", 'user_account_status',\n",
    "            'transaction_status', 'location_distance', 'time_taken_for_transaction',\n",
    "            'transaction_time_of_day', 'user\\'s_transaction_history',\n",
    "            'merchant\\'s_reputation_score', 'user\\'s_device_location',\n",
    "            'transaction_currency', 'transaction_purpose', 'user\\'s_credit_score',\n",
    "            'user\\'s_email_domain', 'merchant\\'s_business_age',\n",
    "            'transaction_authentication_method']\n"
   ]
  },
  {
   "cell_type": "code",
   "execution_count": 47,
   "metadata": {},
   "outputs": [],
   "source": [
    "selected_features = [\"ip_address\", \"user_income\", \"transaction_amount\",\n",
    "                     \"location_distance\", \"time_taken_for_transaction\",\n",
    "                     \"user's_credit_score\"]"
   ]
  },
  {
   "cell_type": "code",
   "execution_count": 17,
   "metadata": {},
   "outputs": [],
   "source": [
    "# formatting the column names to be more consistent\n",
    "fraud_df.columns = fraud_df.columns.str.lower()\n",
    "fraud_df.columns = fraud_df.columns.str.replace(\" \", \"_\")"
   ]
  },
  {
   "cell_type": "markdown",
   "metadata": {},
   "source": [
    "### Feature Engineering"
   ]
  },
  {
   "cell_type": "code",
   "execution_count": 48,
   "metadata": {},
   "outputs": [],
   "source": [
    "# seperating the data into target (y) and predictor (x) variables.\n",
    "y = fraud_df[\"fraudulent_flag\"]\n",
    "X = fraud_df[selected_features]"
   ]
  },
  {
   "cell_type": "code",
   "execution_count": 31,
   "metadata": {},
   "outputs": [],
   "source": [
    "# X.head()"
   ]
  },
  {
   "cell_type": "code",
   "execution_count": 38,
   "metadata": {},
   "outputs": [
    {
     "name": "stderr",
     "output_type": "stream",
     "text": [
      "c:\\Users\\Latitude E7270\\AppData\\Local\\Programs\\Python\\Python311\\Lib\\site-packages\\sklearn\\metrics\\cluster\\_supervised.py:64: UserWarning: Clustering metrics expects discrete values but received continuous values for label, and binary values for target\n",
      "  warnings.warn(msg, UserWarning)\n"
     ]
    },
    {
     "name": "stdout",
     "output_type": "stream",
     "text": [
      "transaction_amount score: 0.008438973328968282\n",
      "payment_method score: 2.5987580564157398e-06\n",
      "country_code score: 4.687493972477252e-06\n",
      "transaction_type score: 3.3740052077374516e-06\n",
      "device_type score: 3.241385290793375e-06\n",
      "ip_address score: 0.6926499624915344\n",
      "browser_type score: 2.8168583201398922e-06\n",
      "operating_system score: 3.859630139907422e-06\n",
      "merchant_category score: 4.300995773337535e-06\n",
      "user_age score: 3.5765949986665824e-06\n",
      "user_occupation score: 1.7762668802490111e-06\n"
     ]
    },
    {
     "name": "stderr",
     "output_type": "stream",
     "text": [
      "c:\\Users\\Latitude E7270\\AppData\\Local\\Programs\\Python\\Python311\\Lib\\site-packages\\sklearn\\metrics\\cluster\\_supervised.py:64: UserWarning: Clustering metrics expects discrete values but received continuous values for label, and binary values for target\n",
      "  warnings.warn(msg, UserWarning)\n"
     ]
    },
    {
     "name": "stdout",
     "output_type": "stream",
     "text": [
      "user_income score: 0.5175025935456573\n",
      "user_gender score: 4.111489797231638e-07\n",
      "user_account_status score: 1.1851414232627588e-06\n",
      "transaction_status score: 2.7601645790423235e-06\n"
     ]
    },
    {
     "name": "stderr",
     "output_type": "stream",
     "text": [
      "c:\\Users\\Latitude E7270\\AppData\\Local\\Programs\\Python\\Python311\\Lib\\site-packages\\sklearn\\metrics\\cluster\\_supervised.py:64: UserWarning: Clustering metrics expects discrete values but received continuous values for label, and binary values for target\n",
      "  warnings.warn(msg, UserWarning)\n"
     ]
    },
    {
     "name": "stdout",
     "output_type": "stream",
     "text": [
      "location_distance score: 0.0008197739407848333\n"
     ]
    },
    {
     "name": "stderr",
     "output_type": "stream",
     "text": [
      "c:\\Users\\Latitude E7270\\AppData\\Local\\Programs\\Python\\Python311\\Lib\\site-packages\\sklearn\\metrics\\cluster\\_supervised.py:64: UserWarning: Clustering metrics expects discrete values but received continuous values for label, and binary values for target\n",
      "  warnings.warn(msg, UserWarning)\n"
     ]
    },
    {
     "name": "stdout",
     "output_type": "stream",
     "text": [
      "time_taken_for_transaction score: 0.00048606497360688356\n",
      "transaction_time_of_day score: 1.1841384206512373e-07\n",
      "user's_transaction_history score: 7.72316001679263e-06\n"
     ]
    },
    {
     "name": "stderr",
     "output_type": "stream",
     "text": [
      "c:\\Users\\Latitude E7270\\AppData\\Local\\Programs\\Python\\Python311\\Lib\\site-packages\\sklearn\\metrics\\cluster\\_supervised.py:64: UserWarning: Clustering metrics expects discrete values but received continuous values for label, and binary values for target\n",
      "  warnings.warn(msg, UserWarning)\n"
     ]
    },
    {
     "name": "stdout",
     "output_type": "stream",
     "text": [
      "merchant's_reputation_score score: 3.270236507881951e-05\n",
      "user's_device_location score: 2.3434770907021507e-06\n",
      "transaction_currency score: 3.881151857003384e-06\n",
      "transaction_purpose score: 3.0466044109236923e-06\n",
      "user's_credit_score score: 4.9009240722788956e-05\n",
      "user's_email_domain score: 3.736723703025302e-06\n",
      "merchant's_business_age score: 1.9052730870217083e-06\n",
      "transaction_authentication_method score: 2.8808243364569774e-06\n"
     ]
    }
   ],
   "source": [
    "for feature in features:\n",
    "    score = mutual_info_score(fraud_df[feature], y)\n",
    "    print(f\"{feature} score: {score}\")\n"
   ]
  },
  {
   "cell_type": "code",
   "execution_count": 50,
   "metadata": {},
   "outputs": [
    {
     "data": {
      "text/plain": [
       "array([4.24473543e-05])"
      ]
     },
     "execution_count": 50,
     "metadata": {},
     "output_type": "execute_result"
    }
   ],
   "source": [
    "mutual_info_classif(fraud_df[['user_income']], y)"
   ]
  },
  {
   "cell_type": "markdown",
   "metadata": {},
   "source": [
    "#### Splitting the dataset into train and test"
   ]
  },
  {
   "cell_type": "code",
   "execution_count": 65,
   "metadata": {},
   "outputs": [],
   "source": [
    "X_train, X_test, y_train, y_test = train_test_split(X, y, test_size=0.3)"
   ]
  },
  {
   "cell_type": "code",
   "execution_count": 66,
   "metadata": {},
   "outputs": [],
   "source": [
    "X_train.reset_index(drop=True, inplace=True)"
   ]
  },
  {
   "cell_type": "code",
   "execution_count": 74,
   "metadata": {},
   "outputs": [
    {
     "name": "stdout",
     "output_type": "stream",
     "text": [
      "(4200000, 6)\n",
      "(1800000, 6)\n",
      "(4200000,)\n",
      "(1800000,)\n"
     ]
    },
    {
     "data": {
      "text/html": [
       "<div>\n",
       "<style scoped>\n",
       "    .dataframe tbody tr th:only-of-type {\n",
       "        vertical-align: middle;\n",
       "    }\n",
       "\n",
       "    .dataframe tbody tr th {\n",
       "        vertical-align: top;\n",
       "    }\n",
       "\n",
       "    .dataframe thead th {\n",
       "        text-align: right;\n",
       "    }\n",
       "</style>\n",
       "<table border=\"1\" class=\"dataframe\">\n",
       "  <thead>\n",
       "    <tr style=\"text-align: right;\">\n",
       "      <th></th>\n",
       "      <th>ip_address</th>\n",
       "      <th>user_income</th>\n",
       "      <th>transaction_amount</th>\n",
       "      <th>location_distance</th>\n",
       "      <th>time_taken_for_transaction</th>\n",
       "      <th>user's_credit_score</th>\n",
       "    </tr>\n",
       "  </thead>\n",
       "  <tbody>\n",
       "    <tr>\n",
       "      <th>0</th>\n",
       "      <td>94.237.188.214</td>\n",
       "      <td>30075.67</td>\n",
       "      <td>933.49</td>\n",
       "      <td>45.16</td>\n",
       "      <td>57.79</td>\n",
       "      <td>588</td>\n",
       "    </tr>\n",
       "    <tr>\n",
       "      <th>1</th>\n",
       "      <td>123.19.242.76</td>\n",
       "      <td>23156.32</td>\n",
       "      <td>900.21</td>\n",
       "      <td>89.23</td>\n",
       "      <td>55.93</td>\n",
       "      <td>842</td>\n",
       "    </tr>\n",
       "    <tr>\n",
       "      <th>2</th>\n",
       "      <td>87.151.164.111</td>\n",
       "      <td>16861.05</td>\n",
       "      <td>488.90</td>\n",
       "      <td>15.42</td>\n",
       "      <td>35.08</td>\n",
       "      <td>459</td>\n",
       "    </tr>\n",
       "    <tr>\n",
       "      <th>3</th>\n",
       "      <td>94.27.111.0</td>\n",
       "      <td>33844.56</td>\n",
       "      <td>587.04</td>\n",
       "      <td>52.29</td>\n",
       "      <td>57.10</td>\n",
       "      <td>688</td>\n",
       "    </tr>\n",
       "    <tr>\n",
       "      <th>4</th>\n",
       "      <td>225.56.40.102</td>\n",
       "      <td>7825.53</td>\n",
       "      <td>633.01</td>\n",
       "      <td>3.46</td>\n",
       "      <td>11.89</td>\n",
       "      <td>634</td>\n",
       "    </tr>\n",
       "  </tbody>\n",
       "</table>\n",
       "</div>"
      ],
      "text/plain": [
       "       ip_address  user_income  transaction_amount  location_distance  \\\n",
       "0  94.237.188.214     30075.67              933.49              45.16   \n",
       "1   123.19.242.76     23156.32              900.21              89.23   \n",
       "2  87.151.164.111     16861.05              488.90              15.42   \n",
       "3     94.27.111.0     33844.56              587.04              52.29   \n",
       "4   225.56.40.102      7825.53              633.01               3.46   \n",
       "\n",
       "   time_taken_for_transaction  user's_credit_score  \n",
       "0                       57.79                  588  \n",
       "1                       55.93                  842  \n",
       "2                       35.08                  459  \n",
       "3                       57.10                  688  \n",
       "4                       11.89                  634  "
      ]
     },
     "execution_count": 74,
     "metadata": {},
     "output_type": "execute_result"
    }
   ],
   "source": [
    "print(X_train.shape)\n",
    "print(X_test.shape)\n",
    "print(y_train.shape)\n",
    "print(y_test.shape)\n",
    "X_train.head()"
   ]
  },
  {
   "cell_type": "markdown",
   "metadata": {},
   "source": [
    "### Model selection and fitting"
   ]
  },
  {
   "cell_type": "code",
   "execution_count": 71,
   "metadata": {},
   "outputs": [
    {
     "name": "stdout",
     "output_type": "stream",
     "text": [
      "Unexpected exception formatting exception. Falling back to standard exception\n"
     ]
    },
    {
     "name": "stderr",
     "output_type": "stream",
     "text": [
      "Traceback (most recent call last):\n",
      "  File \"c:\\Users\\Latitude E7270\\AppData\\Local\\Programs\\Python\\Python311\\Lib\\site-packages\\IPython\\core\\interactiveshell.py\", line 3508, in run_code\n",
      "    exec(code_obj, self.user_global_ns, self.user_ns)\n",
      "  File \"C:\\Users\\Latitude E7270\\AppData\\Local\\Temp\\ipykernel_12984\\3289419558.py\", line 4, in <module>\n",
      "    XGmodel.fit(X_train, y_train)\n",
      "  File \"c:\\Users\\Latitude E7270\\AppData\\Local\\Programs\\Python\\Python311\\Lib\\site-packages\\xgboost\\core.py\", line 620, in inner_f\n",
      "    ):\n",
      "      \n",
      "  File \"c:\\Users\\Latitude E7270\\AppData\\Local\\Programs\\Python\\Python311\\Lib\\site-packages\\xgboost\\sklearn.py\", line 1471, in fit\n",
      "  File \"c:\\Users\\Latitude E7270\\AppData\\Local\\Programs\\Python\\Python311\\Lib\\site-packages\\xgboost\\sklearn.py\", line 448, in _wrap_evaluation_matrices\n",
      "  File \"c:\\Users\\Latitude E7270\\AppData\\Local\\Programs\\Python\\Python311\\Lib\\site-packages\\xgboost\\sklearn.py\", line 908, in _create_dmatrix\n",
      "    from_fit = True\n",
      "       ^^^^^^^^^^^^\n",
      "  File \"c:\\Users\\Latitude E7270\\AppData\\Local\\Programs\\Python\\Python311\\Lib\\site-packages\\xgboost\\core.py\", line 620, in inner_f\n",
      "    ):\n",
      "      \n",
      "  File \"c:\\Users\\Latitude E7270\\AppData\\Local\\Programs\\Python\\Python311\\Lib\\site-packages\\xgboost\\core.py\", line 743, in __init__\n",
      "    ROW = 0\n",
      "           \n",
      "  File \"c:\\Users\\Latitude E7270\\AppData\\Local\\Programs\\Python\\Python311\\Lib\\site-packages\\xgboost\\data.py\", line 957, in dispatch_data_backend\n",
      "  File \"c:\\Users\\Latitude E7270\\AppData\\Local\\Programs\\Python\\Python311\\Lib\\site-packages\\xgboost\\data.py\", line 404, in _from_pandas_df\n",
      "    # Not yet supported, the index is not ordered for some reason. Alternately:\n",
      "                                     ^^^^^^^^^^^^^^^^^^^^^^^^^^^^^^^^^^^^^^^^^^\n",
      "  File \"c:\\Users\\Latitude E7270\\AppData\\Local\\Programs\\Python\\Python311\\Lib\\site-packages\\xgboost\\data.py\", line 378, in _transform_pandas_df\n",
      "  File \"c:\\Users\\Latitude E7270\\AppData\\Local\\Programs\\Python\\Python311\\Lib\\site-packages\\xgboost\\data.py\", line 270, in _invalid_dataframe_dtype\n",
      "    \"int32[pyarrow]\": \"i\",\n",
      "    ^^^^^^^^^^^^^^^^^^^^^\n",
      "ValueError: DataFrame.dtypes for data must be int, float, bool or category. When categorical type is supplied, The experimental DMatrix parameter`enable_categorical` must be set to `True`.  Invalid columns:ip_address: object\n",
      "\n",
      "During handling of the above exception, another exception occurred:\n",
      "\n",
      "Traceback (most recent call last):\n",
      "  File \"c:\\Users\\Latitude E7270\\AppData\\Local\\Programs\\Python\\Python311\\Lib\\site-packages\\IPython\\core\\interactiveshell.py\", line 2105, in showtraceback\n",
      "    stb = self.InteractiveTB.structured_traceback(\n",
      "          ^^^^^^^^^^^^^^^^^^^^^^^^^^^^^^^^^^^^^^^^\n",
      "  File \"c:\\Users\\Latitude E7270\\AppData\\Local\\Programs\\Python\\Python311\\Lib\\site-packages\\IPython\\core\\ultratb.py\", line 1396, in structured_traceback\n",
      "    return FormattedTB.structured_traceback(\n",
      "           ^^^^^^^^^^^^^^^^^^^^^^^^^^^^^^^^^\n",
      "  File \"c:\\Users\\Latitude E7270\\AppData\\Local\\Programs\\Python\\Python311\\Lib\\site-packages\\IPython\\core\\ultratb.py\", line 1287, in structured_traceback\n",
      "    return VerboseTB.structured_traceback(\n",
      "           ^^^^^^^^^^^^^^^^^^^^^^^^^^^^^^^\n",
      "  File \"c:\\Users\\Latitude E7270\\AppData\\Local\\Programs\\Python\\Python311\\Lib\\site-packages\\IPython\\core\\ultratb.py\", line 1140, in structured_traceback\n",
      "    formatted_exception = self.format_exception_as_a_whole(etype, evalue, etb, number_of_lines_of_context,\n",
      "                          ^^^^^^^^^^^^^^^^^^^^^^^^^^^^^^^^^^^^^^^^^^^^^^^^^^^^^^^^^^^^^^^^^^^^^^^^^^^^^^^^\n",
      "  File \"c:\\Users\\Latitude E7270\\AppData\\Local\\Programs\\Python\\Python311\\Lib\\site-packages\\IPython\\core\\ultratb.py\", line 1055, in format_exception_as_a_whole\n",
      "    frames.append(self.format_record(record))\n",
      "                  ^^^^^^^^^^^^^^^^^^^^^^^^^^\n",
      "  File \"c:\\Users\\Latitude E7270\\AppData\\Local\\Programs\\Python\\Python311\\Lib\\site-packages\\IPython\\core\\ultratb.py\", line 955, in format_record\n",
      "    frame_info.lines, Colors, self.has_colors, lvals\n",
      "    ^^^^^^^^^^^^^^^^\n",
      "  File \"c:\\Users\\Latitude E7270\\AppData\\Local\\Programs\\Python\\Python311\\Lib\\site-packages\\IPython\\core\\ultratb.py\", line 778, in lines\n",
      "    return self._sd.lines\n",
      "           ^^^^^^^^^^^^^^\n",
      "  File \"C:\\Users\\Latitude E7270\\AppData\\Roaming\\Python\\Python311\\site-packages\\stack_data\\utils.py\", line 144, in cached_property_wrapper\n",
      "    value = obj.__dict__[self.func.__name__] = self.func(obj)\n",
      "                                               ^^^^^^^^^^^^^^\n",
      "  File \"C:\\Users\\Latitude E7270\\AppData\\Roaming\\Python\\Python311\\site-packages\\stack_data\\core.py\", line 734, in lines\n",
      "    pieces = self.included_pieces\n",
      "             ^^^^^^^^^^^^^^^^^^^^\n",
      "  File \"C:\\Users\\Latitude E7270\\AppData\\Roaming\\Python\\Python311\\site-packages\\stack_data\\utils.py\", line 144, in cached_property_wrapper\n",
      "    value = obj.__dict__[self.func.__name__] = self.func(obj)\n",
      "                                               ^^^^^^^^^^^^^^\n",
      "  File \"C:\\Users\\Latitude E7270\\AppData\\Roaming\\Python\\Python311\\site-packages\\stack_data\\core.py\", line 681, in included_pieces\n",
      "    pos = scope_pieces.index(self.executing_piece)\n",
      "                             ^^^^^^^^^^^^^^^^^^^^\n",
      "  File \"C:\\Users\\Latitude E7270\\AppData\\Roaming\\Python\\Python311\\site-packages\\stack_data\\utils.py\", line 144, in cached_property_wrapper\n",
      "    value = obj.__dict__[self.func.__name__] = self.func(obj)\n",
      "                                               ^^^^^^^^^^^^^^\n",
      "  File \"C:\\Users\\Latitude E7270\\AppData\\Roaming\\Python\\Python311\\site-packages\\stack_data\\core.py\", line 660, in executing_piece\n",
      "    return only(\n",
      "           ^^^^^\n",
      "  File \"C:\\Users\\Latitude E7270\\AppData\\Roaming\\Python\\Python311\\site-packages\\executing\\executing.py\", line 190, in only\n",
      "    raise NotOneValueFound('Expected one value, found 0')\n",
      "executing.executing.NotOneValueFound: Expected one value, found 0\n"
     ]
    }
   ],
   "source": [
    "XGmodel = XGBClassifier(n_estimators=2, max_depth=2,\n",
    "                        learning_rate=1, objective='binary:logistic')\n",
    "\n",
    "XGmodel.fit(X_train, y_train)"
   ]
  }
 ],
 "metadata": {
  "kernelspec": {
   "display_name": "Python 3",
   "language": "python",
   "name": "python3"
  },
  "language_info": {
   "codemirror_mode": {
    "name": "ipython",
    "version": 3
   },
   "file_extension": ".py",
   "mimetype": "text/x-python",
   "name": "python",
   "nbconvert_exporter": "python",
   "pygments_lexer": "ipython3",
   "version": "3.11.0"
  },
  "orig_nbformat": 4
 },
 "nbformat": 4,
 "nbformat_minor": 2
}
