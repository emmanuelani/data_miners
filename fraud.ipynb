{
 "cells": [
  {
   "cell_type": "code",
   "execution_count": 35,
   "metadata": {},
   "outputs": [],
   "source": [
    "import pandas as pd\n",
    "import numpy as np\n",
    "import xgboost\n",
    "from feature_engine.selection import DropConstantFeatures\n",
    "from sklearn.feature_selection import mutual_info_classif\n",
    "from sklearn.metrics import mutual_info_score"
   ]
  },
  {
   "cell_type": "markdown",
   "metadata": {},
   "source": [
    "#### Reading the data"
   ]
  },
  {
   "cell_type": "code",
   "execution_count": 7,
   "metadata": {},
   "outputs": [],
   "source": [
    "fraud_df = pd.read_csv(\"fraud_detection.csv\")\n"
   ]
  },
  {
   "cell_type": "markdown",
   "metadata": {},
   "source": [
    "#### Basic EDA"
   ]
  },
  {
   "cell_type": "code",
   "execution_count": 28,
   "metadata": {},
   "outputs": [
    {
     "data": {
      "text/plain": [
       "Index(['transaction_id', 'user_id', 'transaction_amount',\n",
       "       'transaction_date_and_time', 'merchant_id', 'payment_method',\n",
       "       'country_code', 'transaction_type', 'device_type', 'ip_address',\n",
       "       'browser_type', 'operating_system', 'merchant_category', 'user_age',\n",
       "       'user_occupation', 'user_income', 'user_gender', 'user_account_status',\n",
       "       'transaction_status', 'location_distance', 'time_taken_for_transaction',\n",
       "       'transaction_time_of_day', 'user's_transaction_history',\n",
       "       'merchant's_reputation_score', 'user's_device_location',\n",
       "       'transaction_currency', 'transaction_purpose', 'user's_credit_score',\n",
       "       'user's_email_domain', 'merchant's_business_age',\n",
       "       'transaction_authentication_method', 'fraudulent_flag'],\n",
       "      dtype='object')"
      ]
     },
     "execution_count": 28,
     "metadata": {},
     "output_type": "execute_result"
    }
   ],
   "source": [
    "# fraud_df.head()\n",
    "# fraud_df.shape\n",
    "fraud_df.columns"
   ]
  },
  {
   "cell_type": "code",
   "execution_count": 29,
   "metadata": {},
   "outputs": [],
   "source": [
    "features = [\"transaction_amount\", \"payment_method\", \"country_code\", \"transaction_type\",\n",
    " \"device_type\", \"ip_address\", \"browser_type\", \"operating_system\", \"merchant_category\",\n",
    "            \"user_age\", \"user_occupation\", \"user_income\", \"user_gender\", 'user_account_status',\n",
    "            'transaction_status', 'location_distance', 'time_taken_for_transaction',\n",
    "            'transaction_time_of_day', 'user\\'s_transaction_history',\n",
    "            'merchant\\'s_reputation_score', 'user\\'s_device_location',\n",
    "            'transaction_currency', 'transaction_purpose', 'user\\'s_credit_score',\n",
    "            'user\\'s_email_domain', 'merchant\\'s_business_age',\n",
    "            'transaction_authentication_method']\n"
   ]
  },
  {
   "cell_type": "code",
   "execution_count": 17,
   "metadata": {},
   "outputs": [],
   "source": [
    "# formatting the column names to be more consistent\n",
    "fraud_df.columns = fraud_df.columns.str.lower()\n",
    "fraud_df.columns = fraud_df.columns.str.replace(\" \", \"_\")"
   ]
  },
  {
   "cell_type": "markdown",
   "metadata": {},
   "source": [
    "### Feature Engineering"
   ]
  },
  {
   "cell_type": "code",
   "execution_count": 30,
   "metadata": {},
   "outputs": [],
   "source": [
    "# seperating the data into target (y) and predictor (x) variables.\n",
    "y = fraud_df[\"fraudulent_flag\"]\n",
    "X = fraud_df[features]"
   ]
  },
  {
   "cell_type": "code",
   "execution_count": 31,
   "metadata": {},
   "outputs": [],
   "source": [
    "# X.head()"
   ]
  },
  {
   "cell_type": "code",
   "execution_count": 38,
   "metadata": {},
   "outputs": [
    {
     "name": "stderr",
     "output_type": "stream",
     "text": [
      "c:\\Users\\Latitude E7270\\AppData\\Local\\Programs\\Python\\Python311\\Lib\\site-packages\\sklearn\\metrics\\cluster\\_supervised.py:64: UserWarning: Clustering metrics expects discrete values but received continuous values for label, and binary values for target\n",
      "  warnings.warn(msg, UserWarning)\n"
     ]
    },
    {
     "name": "stdout",
     "output_type": "stream",
     "text": [
      "transaction_amount score: 0.008438973328968282\n",
      "payment_method score: 2.5987580564157398e-06\n",
      "country_code score: 4.687493972477252e-06\n",
      "transaction_type score: 3.3740052077374516e-06\n",
      "device_type score: 3.241385290793375e-06\n",
      "ip_address score: 0.6926499624915344\n",
      "browser_type score: 2.8168583201398922e-06\n",
      "operating_system score: 3.859630139907422e-06\n",
      "merchant_category score: 4.300995773337535e-06\n",
      "user_age score: 3.5765949986665824e-06\n",
      "user_occupation score: 1.7762668802490111e-06\n"
     ]
    },
    {
     "name": "stderr",
     "output_type": "stream",
     "text": [
      "c:\\Users\\Latitude E7270\\AppData\\Local\\Programs\\Python\\Python311\\Lib\\site-packages\\sklearn\\metrics\\cluster\\_supervised.py:64: UserWarning: Clustering metrics expects discrete values but received continuous values for label, and binary values for target\n",
      "  warnings.warn(msg, UserWarning)\n"
     ]
    },
    {
     "name": "stdout",
     "output_type": "stream",
     "text": [
      "user_income score: 0.5175025935456573\n",
      "user_gender score: 4.111489797231638e-07\n",
      "user_account_status score: 1.1851414232627588e-06\n",
      "transaction_status score: 2.7601645790423235e-06\n"
     ]
    },
    {
     "name": "stderr",
     "output_type": "stream",
     "text": [
      "c:\\Users\\Latitude E7270\\AppData\\Local\\Programs\\Python\\Python311\\Lib\\site-packages\\sklearn\\metrics\\cluster\\_supervised.py:64: UserWarning: Clustering metrics expects discrete values but received continuous values for label, and binary values for target\n",
      "  warnings.warn(msg, UserWarning)\n"
     ]
    },
    {
     "name": "stdout",
     "output_type": "stream",
     "text": [
      "location_distance score: 0.0008197739407848333\n"
     ]
    },
    {
     "name": "stderr",
     "output_type": "stream",
     "text": [
      "c:\\Users\\Latitude E7270\\AppData\\Local\\Programs\\Python\\Python311\\Lib\\site-packages\\sklearn\\metrics\\cluster\\_supervised.py:64: UserWarning: Clustering metrics expects discrete values but received continuous values for label, and binary values for target\n",
      "  warnings.warn(msg, UserWarning)\n"
     ]
    },
    {
     "name": "stdout",
     "output_type": "stream",
     "text": [
      "time_taken_for_transaction score: 0.00048606497360688356\n",
      "transaction_time_of_day score: 1.1841384206512373e-07\n",
      "user's_transaction_history score: 7.72316001679263e-06\n"
     ]
    },
    {
     "name": "stderr",
     "output_type": "stream",
     "text": [
      "c:\\Users\\Latitude E7270\\AppData\\Local\\Programs\\Python\\Python311\\Lib\\site-packages\\sklearn\\metrics\\cluster\\_supervised.py:64: UserWarning: Clustering metrics expects discrete values but received continuous values for label, and binary values for target\n",
      "  warnings.warn(msg, UserWarning)\n"
     ]
    },
    {
     "name": "stdout",
     "output_type": "stream",
     "text": [
      "merchant's_reputation_score score: 3.270236507881951e-05\n",
      "user's_device_location score: 2.3434770907021507e-06\n",
      "transaction_currency score: 3.881151857003384e-06\n",
      "transaction_purpose score: 3.0466044109236923e-06\n",
      "user's_credit_score score: 4.9009240722788956e-05\n",
      "user's_email_domain score: 3.736723703025302e-06\n",
      "merchant's_business_age score: 1.9052730870217083e-06\n",
      "transaction_authentication_method score: 2.8808243364569774e-06\n"
     ]
    }
   ],
   "source": [
    "for feature in features:\n",
    "    score = mutual_info_score(fraud_df[feature], y)\n",
    "    print(f\"{feature} score: {score}\")\n"
   ]
  },
  {
   "cell_type": "code",
   "execution_count": 41,
   "metadata": {},
   "outputs": [
    {
     "data": {
      "text/plain": [
       "0.6931471800690576"
      ]
     },
     "execution_count": 41,
     "metadata": {},
     "output_type": "execute_result"
    }
   ],
   "source": [
    "mutual_info_score(, y)"
   ]
  }
 ],
 "metadata": {
  "kernelspec": {
   "display_name": "Python 3",
   "language": "python",
   "name": "python3"
  },
  "language_info": {
   "codemirror_mode": {
    "name": "ipython",
    "version": 3
   },
   "file_extension": ".py",
   "mimetype": "text/x-python",
   "name": "python",
   "nbconvert_exporter": "python",
   "pygments_lexer": "ipython3",
   "version": "3.11.0"
  },
  "orig_nbformat": 4
 },
 "nbformat": 4,
 "nbformat_minor": 2
}
