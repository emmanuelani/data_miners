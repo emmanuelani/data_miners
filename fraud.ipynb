{
 "cells": [
  {
   "cell_type": "code",
   "execution_count": 1,
   "metadata": {},
   "outputs": [],
   "source": [
    "import pandas as pd\n",
    "import numpy as np\n",
    "\n",
    "from xgboost import XGBClassifier\n",
    "from feature_engine.selection import DropConstantFeatures\n",
    "from sklearn.feature_selection import mutual_info_classif\n",
    "from sklearn.metrics import mutual_info_score\n",
    "from sklearn.model_selection import train_test_split\n",
    "from sklearn.metrics import accuracy_score\n",
    "from sklearn.metrics import classification_report\n",
    "from sklearn.preprocessing import LabelEncoder\n",
    "from sklearn.preprocessing import MinMaxScaler\n",
    "from sklearn.preprocessing import StandardScaler"
   ]
  },
  {
   "cell_type": "markdown",
   "metadata": {},
   "source": [
    "#### Reading the data"
   ]
  },
  {
   "cell_type": "code",
   "execution_count": 2,
   "metadata": {},
   "outputs": [],
   "source": [
    "fraud_df = pd.read_csv(\"fraud_detection.csv\")\n"
   ]
  },
  {
   "cell_type": "markdown",
   "metadata": {},
   "source": [
    "#### Basic EDA"
   ]
  },
  {
   "cell_type": "code",
   "execution_count": 3,
   "metadata": {},
   "outputs": [
    {
     "data": {
      "text/plain": [
       "Index(['Transaction ID', 'User ID', 'Transaction Amount',\n",
       "       'Transaction Date and Time', 'Merchant ID', 'Payment Method',\n",
       "       'Country Code', 'Transaction Type', 'Device Type', 'IP Address',\n",
       "       'Browser Type', 'Operating System', 'Merchant Category', 'User Age',\n",
       "       'User Occupation', 'User Income', 'User Gender', 'User Account Status',\n",
       "       'Transaction Status', 'Location Distance', 'Time Taken for Transaction',\n",
       "       'Transaction Time of Day', 'User's Transaction History',\n",
       "       'Merchant's Reputation Score', 'User's Device Location',\n",
       "       'Transaction Currency', 'Transaction Purpose', 'User's Credit Score',\n",
       "       'User's Email Domain', 'Merchant's Business Age',\n",
       "       'Transaction Authentication Method', 'Fraudulent Flag'],\n",
       "      dtype='object')"
      ]
     },
     "execution_count": 3,
     "metadata": {},
     "output_type": "execute_result"
    }
   ],
   "source": [
    "# fraud_df.head()\n",
    "# fraud_df.shape\n",
    "fraud_df.columns"
   ]
  },
  {
   "cell_type": "code",
   "execution_count": 4,
   "metadata": {},
   "outputs": [],
   "source": [
    "features = [\"transaction_amount\", \"payment_method\", \"country_code\", \"transaction_type\",\n",
    " \"device_type\", \"ip_address\", \"browser_type\", \"operating_system\", \"merchant_category\",\n",
    "            \"user_age\", \"user_occupation\", \"user_income\", \"user_gender\", 'user_account_status',\n",
    "            'transaction_status', 'location_distance', 'time_taken_for_transaction',\n",
    "            'transaction_time_of_day', 'user\\'s_transaction_history',\n",
    "            'merchant\\'s_reputation_score', 'user\\'s_device_location',\n",
    "            'transaction_currency', 'transaction_purpose', 'user\\'s_credit_score',\n",
    "            'user\\'s_email_domain', 'merchant\\'s_business_age',\n",
    "            'transaction_authentication_method']\n"
   ]
  },
  {
   "cell_type": "code",
   "execution_count": 5,
   "metadata": {},
   "outputs": [],
   "source": [
    "# formatting the column names to be more consistent\n",
    "fraud_df.columns = fraud_df.columns.str.lower()\n",
    "fraud_df.columns = fraud_df.columns.str.replace(\" \", \"_\")"
   ]
  },
  {
   "cell_type": "markdown",
   "metadata": {},
   "source": [
    "### Feature Engineering"
   ]
  },
  {
   "cell_type": "code",
   "execution_count": 6,
   "metadata": {},
   "outputs": [],
   "source": [
    "# for feature in features:\n",
    "#     score = mutual_info_score(fraud_df[feature], y)\n",
    "#     print(f\"{feature} score: {score}\")\n"
   ]
  },
  {
   "cell_type": "code",
   "execution_count": 17,
   "metadata": {},
   "outputs": [
    {
     "data": {
      "text/html": [
       "<div>\n",
       "<style scoped>\n",
       "    .dataframe tbody tr th:only-of-type {\n",
       "        vertical-align: middle;\n",
       "    }\n",
       "\n",
       "    .dataframe tbody tr th {\n",
       "        vertical-align: top;\n",
       "    }\n",
       "\n",
       "    .dataframe thead th {\n",
       "        text-align: right;\n",
       "    }\n",
       "</style>\n",
       "<table border=\"1\" class=\"dataframe\">\n",
       "  <thead>\n",
       "    <tr style=\"text-align: right;\">\n",
       "      <th></th>\n",
       "      <th>user_income</th>\n",
       "      <th>transaction_amount</th>\n",
       "      <th>location_distance</th>\n",
       "      <th>time_taken_for_transaction</th>\n",
       "      <th>user's_credit_score</th>\n",
       "      <th>merchant_category</th>\n",
       "      <th>merchant's_reputation_score</th>\n",
       "      <th>transaction_time_of_day</th>\n",
       "      <th>transaction_authentication_method</th>\n",
       "      <th>user's_transaction_history</th>\n",
       "      <th>user_account_status</th>\n",
       "      <th>user_age</th>\n",
       "      <th>transaction_currency</th>\n",
       "    </tr>\n",
       "  </thead>\n",
       "  <tbody>\n",
       "    <tr>\n",
       "      <th>0</th>\n",
       "      <td>66826.21</td>\n",
       "      <td>163.08</td>\n",
       "      <td>9.34</td>\n",
       "      <td>24.22</td>\n",
       "      <td>343</td>\n",
       "      <td>Industrial &amp; Scientific</td>\n",
       "      <td>2.71</td>\n",
       "      <td>Daytime</td>\n",
       "      <td>Bluetooth Authentication</td>\n",
       "      <td>26</td>\n",
       "      <td>Pro</td>\n",
       "      <td>68</td>\n",
       "      <td>NOK</td>\n",
       "    </tr>\n",
       "    <tr>\n",
       "      <th>1</th>\n",
       "      <td>89356.71</td>\n",
       "      <td>430.74</td>\n",
       "      <td>65.28</td>\n",
       "      <td>55.11</td>\n",
       "      <td>688</td>\n",
       "      <td>Beauty &amp; Cosmetics</td>\n",
       "      <td>3.95</td>\n",
       "      <td>Daytime</td>\n",
       "      <td>NFC Tag</td>\n",
       "      <td>60</td>\n",
       "      <td>Pending Approval</td>\n",
       "      <td>22</td>\n",
       "      <td>EGP</td>\n",
       "    </tr>\n",
       "    <tr>\n",
       "      <th>2</th>\n",
       "      <td>58438.63</td>\n",
       "      <td>415.74</td>\n",
       "      <td>44.05</td>\n",
       "      <td>53.84</td>\n",
       "      <td>371</td>\n",
       "      <td>Real Estate</td>\n",
       "      <td>3.81</td>\n",
       "      <td>Daytime</td>\n",
       "      <td>Token</td>\n",
       "      <td>81</td>\n",
       "      <td>Pro</td>\n",
       "      <td>71</td>\n",
       "      <td>MXN</td>\n",
       "    </tr>\n",
       "    <tr>\n",
       "      <th>3</th>\n",
       "      <td>3426.92</td>\n",
       "      <td>565.89</td>\n",
       "      <td>21.70</td>\n",
       "      <td>21.62</td>\n",
       "      <td>687</td>\n",
       "      <td>Appliances</td>\n",
       "      <td>2.67</td>\n",
       "      <td>Daytime</td>\n",
       "      <td>Time-Based OTP</td>\n",
       "      <td>18</td>\n",
       "      <td>Premium</td>\n",
       "      <td>78</td>\n",
       "      <td>CLP</td>\n",
       "    </tr>\n",
       "    <tr>\n",
       "      <th>4</th>\n",
       "      <td>53080.12</td>\n",
       "      <td>955.49</td>\n",
       "      <td>56.63</td>\n",
       "      <td>53.71</td>\n",
       "      <td>605</td>\n",
       "      <td>Jewelry</td>\n",
       "      <td>3.19</td>\n",
       "      <td>Daytime</td>\n",
       "      <td>Password</td>\n",
       "      <td>98</td>\n",
       "      <td>Free</td>\n",
       "      <td>31</td>\n",
       "      <td>RUB</td>\n",
       "    </tr>\n",
       "  </tbody>\n",
       "</table>\n",
       "</div>"
      ],
      "text/plain": [
       "   user_income  transaction_amount  location_distance  \\\n",
       "0     66826.21              163.08               9.34   \n",
       "1     89356.71              430.74              65.28   \n",
       "2     58438.63              415.74              44.05   \n",
       "3      3426.92              565.89              21.70   \n",
       "4     53080.12              955.49              56.63   \n",
       "\n",
       "   time_taken_for_transaction  user's_credit_score        merchant_category  \\\n",
       "0                       24.22                  343  Industrial & Scientific   \n",
       "1                       55.11                  688       Beauty & Cosmetics   \n",
       "2                       53.84                  371              Real Estate   \n",
       "3                       21.62                  687               Appliances   \n",
       "4                       53.71                  605                  Jewelry   \n",
       "\n",
       "   merchant's_reputation_score transaction_time_of_day  \\\n",
       "0                         2.71                 Daytime   \n",
       "1                         3.95                 Daytime   \n",
       "2                         3.81                 Daytime   \n",
       "3                         2.67                 Daytime   \n",
       "4                         3.19                 Daytime   \n",
       "\n",
       "  transaction_authentication_method  user's_transaction_history  \\\n",
       "0          Bluetooth Authentication                          26   \n",
       "1                           NFC Tag                          60   \n",
       "2                             Token                          81   \n",
       "3                    Time-Based OTP                          18   \n",
       "4                          Password                          98   \n",
       "\n",
       "  user_account_status  user_age transaction_currency  \n",
       "0                 Pro        68                  NOK  \n",
       "1    Pending Approval        22                  EGP  \n",
       "2                 Pro        71                  MXN  \n",
       "3             Premium        78                  CLP  \n",
       "4                Free        31                  RUB  "
      ]
     },
     "metadata": {},
     "output_type": "display_data"
    }
   ],
   "source": [
    "selected_features = [\"user_income\", \"transaction_amount\",\n",
    "                     \"location_distance\", \"time_taken_for_transaction\",\n",
    "                     \"user's_credit_score\", \"merchant_category\", \"merchant's_reputation_score\",\n",
    "                     \"transaction_time_of_day\", \"transaction_authentication_method\", 'user\\'s_transaction_history',\n",
    "                     'user_account_status', 'user_age', 'transaction_currency']\n",
    "\n",
    "display(fraud_df[selected_features].head())\n",
    "\n",
    "# seperating the data into target (y) and predictor (x) variables.\n",
    "y = fraud_df[\"fraudulent_flag\"]\n",
    "X = fraud_df[selected_features]"
   ]
  },
  {
   "cell_type": "markdown",
   "metadata": {},
   "source": [
    "### Encoding categorical variables"
   ]
  },
  {
   "cell_type": "code",
   "execution_count": 18,
   "metadata": {},
   "outputs": [],
   "source": [
    "encoder = LabelEncoder()\n",
    "merchant = encoder.fit_transform(fraud_df[\"merchant_category\"])\n",
    "time = encoder.fit_transform(fraud_df[\"transaction_time_of_day\"])\n",
    "auth = encoder.fit_transform(fraud_df[\"transaction_authentication_method\"])\n",
    "account_status = encoder.fit_transform(fraud_df[\"user_account_status\"])\n",
    "currency = encoder.fit_transform(fraud_df[\"transaction_currency\"])"
   ]
  },
  {
   "cell_type": "code",
   "execution_count": 19,
   "metadata": {},
   "outputs": [],
   "source": [
    "merchant = pd.DataFrame(merchant)\n",
    "time = pd.DataFrame(time)\n",
    "auth = pd.DataFrame(auth)\n",
    "account_status = pd.DataFrame(account_status)\n",
    "currency = pd.DataFrame(currency)\n",
    "\n",
    "cat_col = pd.concat([merchant, time, auth, account_status, currency], axis=1)\n",
    "cat_col= pd.concat([cat_col.iloc[:, 0].rename(\"merchant\", inplace=True), \n",
    "           cat_col.iloc[:, 1].rename(\"time\", inplace=True),\n",
    "           cat_col.iloc[:, 2].rename(\"auth\", inplace=True),\n",
    "           cat_col.iloc[:, 3].rename(\"account_status\", inplace=True),\n",
    "           cat_col.iloc[:, 4].rename(\"currency\", inplace=True)], axis=1)\n",
    "\n"
   ]
  },
  {
   "cell_type": "markdown",
   "metadata": {},
   "source": [
    "### Feature scaling"
   ]
  },
  {
   "cell_type": "code",
   "execution_count": 20,
   "metadata": {},
   "outputs": [
    {
     "name": "stdout",
     "output_type": "stream",
     "text": [
      "user_income                          float64\n",
      "transaction_amount                   float64\n",
      "location_distance                    float64\n",
      "time_taken_for_transaction           float64\n",
      "user's_credit_score                    int64\n",
      "merchant_category                     object\n",
      "merchant's_reputation_score          float64\n",
      "transaction_time_of_day               object\n",
      "transaction_authentication_method     object\n",
      "user's_transaction_history             int64\n",
      "user_account_status                   object\n",
      "user_age                               int64\n",
      "transaction_currency                  object\n",
      "dtype: object\n"
     ]
    }
   ],
   "source": [
    "# dropping the categorical variables\n",
    "print(X.dtypes)\n",
    "\n",
    "X = X.drop([\"merchant_category\",\n",
    "        \"transaction_time_of_day\",\n",
    "        \"transaction_authentication_method\",\n",
    "        'user\\'s_transaction_history',\n",
    "        'user_account_status',\n",
    "        'transaction_currency'], axis=1)"
   ]
  },
  {
   "cell_type": "code",
   "execution_count": 21,
   "metadata": {},
   "outputs": [
    {
     "data": {
      "text/html": [
       "<div>\n",
       "<style scoped>\n",
       "    .dataframe tbody tr th:only-of-type {\n",
       "        vertical-align: middle;\n",
       "    }\n",
       "\n",
       "    .dataframe tbody tr th {\n",
       "        vertical-align: top;\n",
       "    }\n",
       "\n",
       "    .dataframe thead th {\n",
       "        text-align: right;\n",
       "    }\n",
       "</style>\n",
       "<table border=\"1\" class=\"dataframe\">\n",
       "  <thead>\n",
       "    <tr style=\"text-align: right;\">\n",
       "      <th></th>\n",
       "      <th>user_income</th>\n",
       "      <th>transaction_amount</th>\n",
       "      <th>location_distance</th>\n",
       "      <th>time_taken_for_transaction</th>\n",
       "      <th>user's_credit_score</th>\n",
       "      <th>merchant's_reputation_score</th>\n",
       "      <th>user_age</th>\n",
       "      <th>merchant</th>\n",
       "      <th>time</th>\n",
       "      <th>auth</th>\n",
       "      <th>account_status</th>\n",
       "      <th>currency</th>\n",
       "    </tr>\n",
       "  </thead>\n",
       "  <tbody>\n",
       "    <tr>\n",
       "      <th>0</th>\n",
       "      <td>66826.21</td>\n",
       "      <td>163.08</td>\n",
       "      <td>9.34</td>\n",
       "      <td>24.22</td>\n",
       "      <td>343</td>\n",
       "      <td>2.71</td>\n",
       "      <td>68</td>\n",
       "      <td>22</td>\n",
       "      <td>0</td>\n",
       "      <td>5</td>\n",
       "      <td>11</td>\n",
       "      <td>24</td>\n",
       "    </tr>\n",
       "    <tr>\n",
       "      <th>1</th>\n",
       "      <td>89356.71</td>\n",
       "      <td>430.74</td>\n",
       "      <td>65.28</td>\n",
       "      <td>55.11</td>\n",
       "      <td>688</td>\n",
       "      <td>3.95</td>\n",
       "      <td>22</td>\n",
       "      <td>4</td>\n",
       "      <td>0</td>\n",
       "      <td>18</td>\n",
       "      <td>9</td>\n",
       "      <td>11</td>\n",
       "    </tr>\n",
       "    <tr>\n",
       "      <th>2</th>\n",
       "      <td>58438.63</td>\n",
       "      <td>415.74</td>\n",
       "      <td>44.05</td>\n",
       "      <td>53.84</td>\n",
       "      <td>371</td>\n",
       "      <td>3.81</td>\n",
       "      <td>71</td>\n",
       "      <td>29</td>\n",
       "      <td>0</td>\n",
       "      <td>33</td>\n",
       "      <td>11</td>\n",
       "      <td>22</td>\n",
       "    </tr>\n",
       "    <tr>\n",
       "      <th>3</th>\n",
       "      <td>3426.92</td>\n",
       "      <td>565.89</td>\n",
       "      <td>21.70</td>\n",
       "      <td>21.62</td>\n",
       "      <td>687</td>\n",
       "      <td>2.67</td>\n",
       "      <td>78</td>\n",
       "      <td>0</td>\n",
       "      <td>0</td>\n",
       "      <td>32</td>\n",
       "      <td>10</td>\n",
       "      <td>6</td>\n",
       "    </tr>\n",
       "    <tr>\n",
       "      <th>4</th>\n",
       "      <td>53080.12</td>\n",
       "      <td>955.49</td>\n",
       "      <td>56.63</td>\n",
       "      <td>53.71</td>\n",
       "      <td>605</td>\n",
       "      <td>3.19</td>\n",
       "      <td>31</td>\n",
       "      <td>23</td>\n",
       "      <td>0</td>\n",
       "      <td>21</td>\n",
       "      <td>3</td>\n",
       "      <td>31</td>\n",
       "    </tr>\n",
       "  </tbody>\n",
       "</table>\n",
       "</div>"
      ],
      "text/plain": [
       "   user_income  transaction_amount  location_distance  \\\n",
       "0     66826.21              163.08               9.34   \n",
       "1     89356.71              430.74              65.28   \n",
       "2     58438.63              415.74              44.05   \n",
       "3      3426.92              565.89              21.70   \n",
       "4     53080.12              955.49              56.63   \n",
       "\n",
       "   time_taken_for_transaction  user's_credit_score  \\\n",
       "0                       24.22                  343   \n",
       "1                       55.11                  688   \n",
       "2                       53.84                  371   \n",
       "3                       21.62                  687   \n",
       "4                       53.71                  605   \n",
       "\n",
       "   merchant's_reputation_score  user_age  merchant  time  auth  \\\n",
       "0                         2.71        68        22     0     5   \n",
       "1                         3.95        22         4     0    18   \n",
       "2                         3.81        71        29     0    33   \n",
       "3                         2.67        78         0     0    32   \n",
       "4                         3.19        31        23     0    21   \n",
       "\n",
       "   account_status  currency  \n",
       "0              11        24  \n",
       "1               9        11  \n",
       "2              11        22  \n",
       "3              10         6  \n",
       "4               3        31  "
      ]
     },
     "execution_count": 21,
     "metadata": {},
     "output_type": "execute_result"
    }
   ],
   "source": [
    "# adding the encoded variables\n",
    "X = pd.concat([X, cat_col], axis=1)\n",
    "X.head()"
   ]
  },
  {
   "cell_type": "code",
   "execution_count": 22,
   "metadata": {},
   "outputs": [],
   "source": [
    "# using standard scaler\n",
    "\n",
    "scaler = MinMaxScaler()\n",
    "scaled_df = scaler.fit_transform(X)"
   ]
  },
  {
   "cell_type": "code",
   "execution_count": 29,
   "metadata": {},
   "outputs": [
    {
     "data": {
      "text/plain": [
       "array([[0.66491114, 0.16224224, 0.08424242, ..., 0.13157895, 0.64705882,\n",
       "        0.61538462],\n",
       "       [0.892492  , 0.43017017, 0.64929293, ..., 0.47368421, 0.52941176,\n",
       "        0.28205128],\n",
       "       [0.5801881 , 0.41515516, 0.43484848, ..., 0.86842105, 0.64705882,\n",
       "        0.56410256],\n",
       "       ...,\n",
       "       [0.32608421, 0.19647648, 0.91090909, ..., 0.42105263, 0.52941176,\n",
       "        0.35897436],\n",
       "       [0.05955668, 0.35768769, 0.9020202 , ..., 0.        , 0.88235294,\n",
       "        0.        ],\n",
       "       [0.397202  , 0.65474474, 0.53454545, ..., 0.55263158, 0.82352941,\n",
       "        0.61538462]])"
      ]
     },
     "execution_count": 29,
     "metadata": {},
     "output_type": "execute_result"
    }
   ],
   "source": [
    "scaled_df"
   ]
  },
  {
   "cell_type": "markdown",
   "metadata": {},
   "source": [
    "#### Splitting the dataset into train and test"
   ]
  },
  {
   "cell_type": "code",
   "execution_count": 30,
   "metadata": {},
   "outputs": [],
   "source": [
    "X_train, X_test, y_train, y_test = train_test_split(scaled_df, y, test_size=0.3)"
   ]
  },
  {
   "cell_type": "code",
   "execution_count": 31,
   "metadata": {},
   "outputs": [
    {
     "ename": "AttributeError",
     "evalue": "'numpy.ndarray' object has no attribute 'reset_index'",
     "output_type": "error",
     "traceback": [
      "\u001b[1;31m---------------------------------------------------------------------------\u001b[0m",
      "\u001b[1;31mAttributeError\u001b[0m                            Traceback (most recent call last)",
      "\u001b[1;32mc:\\Users\\Latitude E7270\\Desktop\\DataFest datathon\\fraud.ipynb Cell 21\u001b[0m line \u001b[0;36m1\n\u001b[1;32m----> <a href='vscode-notebook-cell:/c%3A/Users/Latitude%20E7270/Desktop/DataFest%20datathon/fraud.ipynb#X25sZmlsZQ%3D%3D?line=0'>1</a>\u001b[0m X_train\u001b[39m.\u001b[39;49mreset_index(drop\u001b[39m=\u001b[39m\u001b[39mTrue\u001b[39;00m, inplace\u001b[39m=\u001b[39m\u001b[39mTrue\u001b[39;00m)\n",
      "\u001b[1;31mAttributeError\u001b[0m: 'numpy.ndarray' object has no attribute 'reset_index'"
     ]
    }
   ],
   "source": [
    "# X_train.reset_index(drop=True, inplace=True)"
   ]
  },
  {
   "cell_type": "code",
   "execution_count": 33,
   "metadata": {},
   "outputs": [
    {
     "name": "stdout",
     "output_type": "stream",
     "text": [
      "(4200000, 12)\n",
      "(1800000, 12)\n",
      "(4200000,)\n",
      "(1800000,)\n"
     ]
    }
   ],
   "source": [
    "print(X_train.shape)\n",
    "print(X_test.shape)\n",
    "print(y_train.shape)\n",
    "print(y_test.shape)\n",
    "# X_train.head()"
   ]
  },
  {
   "cell_type": "markdown",
   "metadata": {},
   "source": [
    "### Model selection and fitting"
   ]
  },
  {
   "cell_type": "code",
   "execution_count": null,
   "metadata": {},
   "outputs": [],
   "source": [
    "# creating a parameter grid for Gridsearch\n",
    "\n",
    "params = {\n",
    "    \"n_estimators\": [1, 2, 3, 4, 5],\n",
    "    \"max_depth\": [1, 2, 3, 4, 5],\n",
    "    \"learning_rate\": [0.5, 1, 1.5, 2]\n",
    "}"
   ]
  },
  {
   "cell_type": "code",
   "execution_count": null,
   "metadata": {},
   "outputs": [],
   "source": [
    "# using GridSearchCV\n",
    "\n",
    "grid_search = GridSearchCV(estimator=XGmodel, param_grid=params, cv=5,\n",
    "                           verbose=)"
   ]
  },
  {
   "cell_type": "code",
   "execution_count": 34,
   "metadata": {},
   "outputs": [
    {
     "data": {
      "text/html": [
       "<style>#sk-container-id-2 {color: black;background-color: white;}#sk-container-id-2 pre{padding: 0;}#sk-container-id-2 div.sk-toggleable {background-color: white;}#sk-container-id-2 label.sk-toggleable__label {cursor: pointer;display: block;width: 100%;margin-bottom: 0;padding: 0.3em;box-sizing: border-box;text-align: center;}#sk-container-id-2 label.sk-toggleable__label-arrow:before {content: \"▸\";float: left;margin-right: 0.25em;color: #696969;}#sk-container-id-2 label.sk-toggleable__label-arrow:hover:before {color: black;}#sk-container-id-2 div.sk-estimator:hover label.sk-toggleable__label-arrow:before {color: black;}#sk-container-id-2 div.sk-toggleable__content {max-height: 0;max-width: 0;overflow: hidden;text-align: left;background-color: #f0f8ff;}#sk-container-id-2 div.sk-toggleable__content pre {margin: 0.2em;color: black;border-radius: 0.25em;background-color: #f0f8ff;}#sk-container-id-2 input.sk-toggleable__control:checked~div.sk-toggleable__content {max-height: 200px;max-width: 100%;overflow: auto;}#sk-container-id-2 input.sk-toggleable__control:checked~label.sk-toggleable__label-arrow:before {content: \"▾\";}#sk-container-id-2 div.sk-estimator input.sk-toggleable__control:checked~label.sk-toggleable__label {background-color: #d4ebff;}#sk-container-id-2 div.sk-label input.sk-toggleable__control:checked~label.sk-toggleable__label {background-color: #d4ebff;}#sk-container-id-2 input.sk-hidden--visually {border: 0;clip: rect(1px 1px 1px 1px);clip: rect(1px, 1px, 1px, 1px);height: 1px;margin: -1px;overflow: hidden;padding: 0;position: absolute;width: 1px;}#sk-container-id-2 div.sk-estimator {font-family: monospace;background-color: #f0f8ff;border: 1px dotted black;border-radius: 0.25em;box-sizing: border-box;margin-bottom: 0.5em;}#sk-container-id-2 div.sk-estimator:hover {background-color: #d4ebff;}#sk-container-id-2 div.sk-parallel-item::after {content: \"\";width: 100%;border-bottom: 1px solid gray;flex-grow: 1;}#sk-container-id-2 div.sk-label:hover label.sk-toggleable__label {background-color: #d4ebff;}#sk-container-id-2 div.sk-serial::before {content: \"\";position: absolute;border-left: 1px solid gray;box-sizing: border-box;top: 0;bottom: 0;left: 50%;z-index: 0;}#sk-container-id-2 div.sk-serial {display: flex;flex-direction: column;align-items: center;background-color: white;padding-right: 0.2em;padding-left: 0.2em;position: relative;}#sk-container-id-2 div.sk-item {position: relative;z-index: 1;}#sk-container-id-2 div.sk-parallel {display: flex;align-items: stretch;justify-content: center;background-color: white;position: relative;}#sk-container-id-2 div.sk-item::before, #sk-container-id-2 div.sk-parallel-item::before {content: \"\";position: absolute;border-left: 1px solid gray;box-sizing: border-box;top: 0;bottom: 0;left: 50%;z-index: -1;}#sk-container-id-2 div.sk-parallel-item {display: flex;flex-direction: column;z-index: 1;position: relative;background-color: white;}#sk-container-id-2 div.sk-parallel-item:first-child::after {align-self: flex-end;width: 50%;}#sk-container-id-2 div.sk-parallel-item:last-child::after {align-self: flex-start;width: 50%;}#sk-container-id-2 div.sk-parallel-item:only-child::after {width: 0;}#sk-container-id-2 div.sk-dashed-wrapped {border: 1px dashed gray;margin: 0 0.4em 0.5em 0.4em;box-sizing: border-box;padding-bottom: 0.4em;background-color: white;}#sk-container-id-2 div.sk-label label {font-family: monospace;font-weight: bold;display: inline-block;line-height: 1.2em;}#sk-container-id-2 div.sk-label-container {text-align: center;}#sk-container-id-2 div.sk-container {/* jupyter's `normalize.less` sets `[hidden] { display: none; }` but bootstrap.min.css set `[hidden] { display: none !important; }` so we also need the `!important` here to be able to override the default hidden behavior on the sphinx rendered scikit-learn.org. See: https://github.com/scikit-learn/scikit-learn/issues/21755 */display: inline-block !important;position: relative;}#sk-container-id-2 div.sk-text-repr-fallback {display: none;}</style><div id=\"sk-container-id-2\" class=\"sk-top-container\"><div class=\"sk-text-repr-fallback\"><pre>XGBClassifier(base_score=None, booster=None, callbacks=None,\n",
       "              colsample_bylevel=None, colsample_bynode=None,\n",
       "              colsample_bytree=None, device=None, early_stopping_rounds=None,\n",
       "              enable_categorical=False, eval_metric=None, feature_types=None,\n",
       "              gamma=None, grow_policy=None, importance_type=None,\n",
       "              interaction_constraints=None, learning_rate=1, max_bin=None,\n",
       "              max_cat_threshold=None, max_cat_to_onehot=None,\n",
       "              max_delta_step=None, max_depth=3, max_leaves=None,\n",
       "              min_child_weight=None, missing=nan, monotone_constraints=None,\n",
       "              multi_strategy=None, n_estimators=3, n_jobs=None,\n",
       "              num_parallel_tree=None, random_state=None, ...)</pre><b>In a Jupyter environment, please rerun this cell to show the HTML representation or trust the notebook. <br />On GitHub, the HTML representation is unable to render, please try loading this page with nbviewer.org.</b></div><div class=\"sk-container\" hidden><div class=\"sk-item\"><div class=\"sk-estimator sk-toggleable\"><input class=\"sk-toggleable__control sk-hidden--visually\" id=\"sk-estimator-id-2\" type=\"checkbox\" checked><label for=\"sk-estimator-id-2\" class=\"sk-toggleable__label sk-toggleable__label-arrow\">XGBClassifier</label><div class=\"sk-toggleable__content\"><pre>XGBClassifier(base_score=None, booster=None, callbacks=None,\n",
       "              colsample_bylevel=None, colsample_bynode=None,\n",
       "              colsample_bytree=None, device=None, early_stopping_rounds=None,\n",
       "              enable_categorical=False, eval_metric=None, feature_types=None,\n",
       "              gamma=None, grow_policy=None, importance_type=None,\n",
       "              interaction_constraints=None, learning_rate=1, max_bin=None,\n",
       "              max_cat_threshold=None, max_cat_to_onehot=None,\n",
       "              max_delta_step=None, max_depth=3, max_leaves=None,\n",
       "              min_child_weight=None, missing=nan, monotone_constraints=None,\n",
       "              multi_strategy=None, n_estimators=3, n_jobs=None,\n",
       "              num_parallel_tree=None, random_state=None, ...)</pre></div></div></div></div></div>"
      ],
      "text/plain": [
       "XGBClassifier(base_score=None, booster=None, callbacks=None,\n",
       "              colsample_bylevel=None, colsample_bynode=None,\n",
       "              colsample_bytree=None, device=None, early_stopping_rounds=None,\n",
       "              enable_categorical=False, eval_metric=None, feature_types=None,\n",
       "              gamma=None, grow_policy=None, importance_type=None,\n",
       "              interaction_constraints=None, learning_rate=1, max_bin=None,\n",
       "              max_cat_threshold=None, max_cat_to_onehot=None,\n",
       "              max_delta_step=None, max_depth=3, max_leaves=None,\n",
       "              min_child_weight=None, missing=nan, monotone_constraints=None,\n",
       "              multi_strategy=None, n_estimators=3, n_jobs=None,\n",
       "              num_parallel_tree=None, random_state=None, ...)"
      ]
     },
     "execution_count": 34,
     "metadata": {},
     "output_type": "execute_result"
    }
   ],
   "source": [
    "XGmodel = XGBClassifier(n_estimators=3, max_depth=3,\n",
    "                        learning_rate=1, objective='binary:logistic')\n",
    "\n",
    "XGmodel.fit(X_train, y_train)"
   ]
  },
  {
   "cell_type": "code",
   "execution_count": 35,
   "metadata": {},
   "outputs": [
    {
     "data": {
      "text/plain": [
       "0.5003211111111111"
      ]
     },
     "execution_count": 35,
     "metadata": {},
     "output_type": "execute_result"
    }
   ],
   "source": [
    "y_pred = XGmodel.predict(X_test)\n",
    "\n",
    "accuracy_score(y_pred, y_test)"
   ]
  },
  {
   "cell_type": "code",
   "execution_count": 36,
   "metadata": {},
   "outputs": [
    {
     "name": "stdout",
     "output_type": "stream",
     "text": [
      "              precision    recall  f1-score   support\n",
      "\n",
      "           0       0.50      0.42      0.46    899729\n",
      "           1       0.50      0.58      0.54    900271\n",
      "\n",
      "    accuracy                           0.50   1800000\n",
      "   macro avg       0.50      0.50      0.50   1800000\n",
      "weighted avg       0.50      0.50      0.50   1800000\n",
      "\n"
     ]
    }
   ],
   "source": [
    "print(classification_report(y_test, y_pred))"
   ]
  }
 ],
 "metadata": {
  "kernelspec": {
   "display_name": "Python 3",
   "language": "python",
   "name": "python3"
  },
  "language_info": {
   "codemirror_mode": {
    "name": "ipython",
    "version": 3
   },
   "file_extension": ".py",
   "mimetype": "text/x-python",
   "name": "python",
   "nbconvert_exporter": "python",
   "pygments_lexer": "ipython3",
   "version": "3.11.0"
  },
  "orig_nbformat": 4
 },
 "nbformat": 4,
 "nbformat_minor": 2
}
