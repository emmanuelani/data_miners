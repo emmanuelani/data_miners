{
 "cells": [
  {
   "cell_type": "code",
   "execution_count": 106,
   "metadata": {},
   "outputs": [],
   "source": [
    "import pandas as pd\n",
    "import numpy as np\n",
    "\n",
    "from xgboost import XGBClassifier\n",
    "from feature_engine.selection import DropConstantFeatures\n",
    "from sklearn.feature_selection import mutual_info_classif\n",
    "from sklearn.metrics import mutual_info_score\n",
    "from sklearn.model_selection import train_test_split\n",
    "from sklearn.metrics import accuracy_score\n",
    "from sklearn.metrics import classification_report\n",
    "from sklearn.preprocessing import LabelEncoder"
   ]
  },
  {
   "cell_type": "markdown",
   "metadata": {},
   "source": [
    "#### Reading the data"
   ]
  },
  {
   "cell_type": "code",
   "execution_count": 7,
   "metadata": {},
   "outputs": [],
   "source": [
    "fraud_df = pd.read_csv(\"fraud_detection.csv\")\n"
   ]
  },
  {
   "cell_type": "markdown",
   "metadata": {},
   "source": [
    "#### Basic EDA"
   ]
  },
  {
   "cell_type": "code",
   "execution_count": 28,
   "metadata": {},
   "outputs": [
    {
     "data": {
      "text/plain": [
       "Index(['transaction_id', 'user_id', 'transaction_amount',\n",
       "       'transaction_date_and_time', 'merchant_id', 'payment_method',\n",
       "       'country_code', 'transaction_type', 'device_type', 'ip_address',\n",
       "       'browser_type', 'operating_system', 'merchant_category', 'user_age',\n",
       "       'user_occupation', 'user_income', 'user_gender', 'user_account_status',\n",
       "       'transaction_status', 'location_distance', 'time_taken_for_transaction',\n",
       "       'transaction_time_of_day', 'user's_transaction_history',\n",
       "       'merchant's_reputation_score', 'user's_device_location',\n",
       "       'transaction_currency', 'transaction_purpose', 'user's_credit_score',\n",
       "       'user's_email_domain', 'merchant's_business_age',\n",
       "       'transaction_authentication_method', 'fraudulent_flag'],\n",
       "      dtype='object')"
      ]
     },
     "execution_count": 28,
     "metadata": {},
     "output_type": "execute_result"
    }
   ],
   "source": [
    "# fraud_df.head()\n",
    "# fraud_df.shape\n",
    "fraud_df.columns"
   ]
  },
  {
   "cell_type": "code",
   "execution_count": 29,
   "metadata": {},
   "outputs": [],
   "source": [
    "features = [\"transaction_amount\", \"payment_method\", \"country_code\", \"transaction_type\",\n",
    " \"device_type\", \"ip_address\", \"browser_type\", \"operating_system\", \"merchant_category\",\n",
    "            \"user_age\", \"user_occupation\", \"user_income\", \"user_gender\", 'user_account_status',\n",
    "            'transaction_status', 'location_distance', 'time_taken_for_transaction',\n",
    "            'transaction_time_of_day', 'user\\'s_transaction_history',\n",
    "            'merchant\\'s_reputation_score', 'user\\'s_device_location',\n",
    "            'transaction_currency', 'transaction_purpose', 'user\\'s_credit_score',\n",
    "            'user\\'s_email_domain', 'merchant\\'s_business_age',\n",
    "            'transaction_authentication_method']\n"
   ]
  },
  {
   "cell_type": "code",
   "execution_count": 82,
   "metadata": {},
   "outputs": [],
   "source": [
    "# formatting the column names to be more consistent\n",
    "fraud_df.columns = fraud_df.columns.str.lower()\n",
    "fraud_df.columns = fraud_df.columns.str.replace(\" \", \"_\")"
   ]
  },
  {
   "cell_type": "markdown",
   "metadata": {},
   "source": [
    "### Feature Engineering"
   ]
  },
  {
   "cell_type": "code",
   "execution_count": 85,
   "metadata": {},
   "outputs": [
    {
     "name": "stderr",
     "output_type": "stream",
     "text": [
      "c:\\Users\\Latitude E7270\\AppData\\Local\\Programs\\Python\\Python311\\Lib\\site-packages\\sklearn\\metrics\\cluster\\_supervised.py:64: UserWarning: Clustering metrics expects discrete values but received continuous values for label, and binary values for target\n",
      "  warnings.warn(msg, UserWarning)\n"
     ]
    },
    {
     "name": "stdout",
     "output_type": "stream",
     "text": [
      "transaction_amount score: 0.008438973328968282\n",
      "payment_method score: 2.5987580564157398e-06\n",
      "country_code score: 4.687493972477252e-06\n",
      "transaction_type score: 3.3740052077374516e-06\n",
      "device_type score: 3.241385290793375e-06\n",
      "ip_address score: 0.6926499624915344\n",
      "browser_type score: 2.8168583201398922e-06\n",
      "operating_system score: 3.859630139907422e-06\n",
      "merchant_category score: 4.300995773337535e-06\n",
      "user_age score: 3.5765949986665824e-06\n",
      "user_occupation score: 1.7762668802490111e-06\n"
     ]
    },
    {
     "name": "stderr",
     "output_type": "stream",
     "text": [
      "c:\\Users\\Latitude E7270\\AppData\\Local\\Programs\\Python\\Python311\\Lib\\site-packages\\sklearn\\metrics\\cluster\\_supervised.py:64: UserWarning: Clustering metrics expects discrete values but received continuous values for label, and binary values for target\n",
      "  warnings.warn(msg, UserWarning)\n"
     ]
    },
    {
     "name": "stdout",
     "output_type": "stream",
     "text": [
      "user_income score: 0.5175025935456573\n",
      "user_gender score: 4.111489797231638e-07\n",
      "user_account_status score: 1.1851414232627588e-06\n",
      "transaction_status score: 2.7601645790423235e-06\n"
     ]
    },
    {
     "name": "stderr",
     "output_type": "stream",
     "text": [
      "c:\\Users\\Latitude E7270\\AppData\\Local\\Programs\\Python\\Python311\\Lib\\site-packages\\sklearn\\metrics\\cluster\\_supervised.py:64: UserWarning: Clustering metrics expects discrete values but received continuous values for label, and binary values for target\n",
      "  warnings.warn(msg, UserWarning)\n"
     ]
    },
    {
     "name": "stdout",
     "output_type": "stream",
     "text": [
      "location_distance score: 0.0008197739407848333\n"
     ]
    },
    {
     "name": "stderr",
     "output_type": "stream",
     "text": [
      "c:\\Users\\Latitude E7270\\AppData\\Local\\Programs\\Python\\Python311\\Lib\\site-packages\\sklearn\\metrics\\cluster\\_supervised.py:64: UserWarning: Clustering metrics expects discrete values but received continuous values for label, and binary values for target\n",
      "  warnings.warn(msg, UserWarning)\n"
     ]
    },
    {
     "name": "stdout",
     "output_type": "stream",
     "text": [
      "time_taken_for_transaction score: 0.00048606497360688356\n",
      "transaction_time_of_day score: 1.1841384206512373e-07\n",
      "user's_transaction_history score: 7.72316001679263e-06\n"
     ]
    },
    {
     "name": "stderr",
     "output_type": "stream",
     "text": [
      "c:\\Users\\Latitude E7270\\AppData\\Local\\Programs\\Python\\Python311\\Lib\\site-packages\\sklearn\\metrics\\cluster\\_supervised.py:64: UserWarning: Clustering metrics expects discrete values but received continuous values for label, and binary values for target\n",
      "  warnings.warn(msg, UserWarning)\n"
     ]
    },
    {
     "name": "stdout",
     "output_type": "stream",
     "text": [
      "merchant's_reputation_score score: 3.270236507881951e-05\n",
      "user's_device_location score: 2.3434770907021507e-06\n",
      "transaction_currency score: 3.881151857003384e-06\n",
      "transaction_purpose score: 3.0466044109236923e-06\n",
      "user's_credit_score score: 4.9009240722788956e-05\n",
      "user's_email_domain score: 3.736723703025302e-06\n",
      "merchant's_business_age score: 1.9052730870217083e-06\n",
      "transaction_authentication_method score: 2.8808243364569774e-06\n"
     ]
    }
   ],
   "source": [
    "for feature in features:\n",
    "    score = mutual_info_score(fraud_df[feature], y)\n",
    "    print(f\"{feature} score: {score}\")\n"
   ]
  },
  {
   "cell_type": "code",
   "execution_count": 100,
   "metadata": {},
   "outputs": [],
   "source": [
    "selected_features = [\"user_income\", \"transaction_amount\",\n",
    "                     \"location_distance\", \"time_taken_for_transaction\",\n",
    "                     \"user's_credit_score\", \"merchant_category\", \"merchant's_reputation_score\",\n",
    "                     \"transaction_time_of_day\", \"user's_credit_score\", \"transaction_authentication_method\"]\n",
    "\n",
    "# seperating the data into target (y) and predictor (x) variables.\n",
    "y = fraud_df[\"fraudulent_flag\"]\n",
    "X = fraud_df[selected_features]"
   ]
  },
  {
   "cell_type": "markdown",
   "metadata": {},
   "source": [
    "### Encoding categorical variables"
   ]
  },
  {
   "cell_type": "code",
   "execution_count": 136,
   "metadata": {},
   "outputs": [
    {
     "data": {
      "text/plain": [
       "0          22\n",
       "1           4\n",
       "2          29\n",
       "3           0\n",
       "4          23\n",
       "           ..\n",
       "5999995    14\n",
       "5999996     0\n",
       "5999997    31\n",
       "5999998     3\n",
       "5999999     4\n",
       "Name: merchant, Length: 6000000, dtype: int32"
      ]
     },
     "execution_count": 136,
     "metadata": {},
     "output_type": "execute_result"
    }
   ],
   "source": [
    "encoder = LabelEncoder()\n",
    "merchant = encoder.fit_transform(fraud_df[\"merchant_category\"])\n",
    "time = encoder.fit_transform(fraud_df[\"transaction_time_of_day\"])\n",
    "auth = encoder.fit_transform(fraud_df[\"transaction_authentication_method\"])"
   ]
  },
  {
   "cell_type": "code",
   "execution_count": 143,
   "metadata": {},
   "outputs": [],
   "source": [
    "merchant = pd.DataFrame(merchant)\n",
    "time = pd.DataFrame(time)\n",
    "auth = pd.DataFrame(auth)\n",
    "\n",
    "cat_col = pd.concat([merchant, time, auth], axis=1)\n",
    "cat_col= pd.concat([cat_col.iloc[:, 0].rename(\"merchant\", inplace=True), \n",
    "           cat_col.iloc[:, 1].rename(\"time\", inplace=True),\n",
    "           cat_col.iloc[:, 2].rename(\"auth\", inplace=True)], axis=1)\n",
    "\n"
   ]
  },
  {
   "cell_type": "code",
   "execution_count": 147,
   "metadata": {},
   "outputs": [
    {
     "name": "stderr",
     "output_type": "stream",
     "text": [
      "C:\\Users\\Latitude E7270\\AppData\\Local\\Temp\\ipykernel_12984\\1948458391.py:1: SettingWithCopyWarning: \n",
      "A value is trying to be set on a copy of a slice from a DataFrame\n",
      "\n",
      "See the caveats in the documentation: https://pandas.pydata.org/pandas-docs/stable/user_guide/indexing.html#returning-a-view-versus-a-copy\n",
      "  X.drop([\"merchant_category\",\n"
     ]
    }
   ],
   "source": [
    "# dropping the categorical variables\n",
    "X.drop([\"merchant_category\",\n",
    "        \"transaction_time_of_day\",\n",
    "        \"transaction_authentication_method\"], axis=1,\n",
    "       inplace=True)\n",
    "\n",
    "# adding the encoded variables"
   ]
  },
  {
   "cell_type": "markdown",
   "metadata": {},
   "source": [
    "#### Splitting the dataset into train and test"
   ]
  },
  {
   "cell_type": "code",
   "execution_count": 101,
   "metadata": {},
   "outputs": [],
   "source": [
    "X_train, X_test, y_train, y_test = train_test_split(X, y, test_size=0.3)"
   ]
  },
  {
   "cell_type": "code",
   "execution_count": 102,
   "metadata": {},
   "outputs": [],
   "source": [
    "X_train.reset_index(drop=True, inplace=True)"
   ]
  },
  {
   "cell_type": "code",
   "execution_count": 103,
   "metadata": {},
   "outputs": [
    {
     "name": "stdout",
     "output_type": "stream",
     "text": [
      "(4200000, 10)\n",
      "(1800000, 10)\n",
      "(4200000,)\n",
      "(1800000,)\n"
     ]
    },
    {
     "data": {
      "text/html": [
       "<div>\n",
       "<style scoped>\n",
       "    .dataframe tbody tr th:only-of-type {\n",
       "        vertical-align: middle;\n",
       "    }\n",
       "\n",
       "    .dataframe tbody tr th {\n",
       "        vertical-align: top;\n",
       "    }\n",
       "\n",
       "    .dataframe thead th {\n",
       "        text-align: right;\n",
       "    }\n",
       "</style>\n",
       "<table border=\"1\" class=\"dataframe\">\n",
       "  <thead>\n",
       "    <tr style=\"text-align: right;\">\n",
       "      <th></th>\n",
       "      <th>user_income</th>\n",
       "      <th>transaction_amount</th>\n",
       "      <th>location_distance</th>\n",
       "      <th>time_taken_for_transaction</th>\n",
       "      <th>user's_credit_score</th>\n",
       "      <th>merchant_category</th>\n",
       "      <th>merchant's_reputation_score</th>\n",
       "      <th>transaction_time_of_day</th>\n",
       "      <th>user's_credit_score</th>\n",
       "      <th>transaction_authentication_method</th>\n",
       "    </tr>\n",
       "  </thead>\n",
       "  <tbody>\n",
       "    <tr>\n",
       "      <th>0</th>\n",
       "      <td>21748.03</td>\n",
       "      <td>3.33</td>\n",
       "      <td>14.55</td>\n",
       "      <td>28.16</td>\n",
       "      <td>401</td>\n",
       "      <td>Industrial &amp; Scientific</td>\n",
       "      <td>4.56</td>\n",
       "      <td>Nighttime</td>\n",
       "      <td>401</td>\n",
       "      <td>Time-Based OTP</td>\n",
       "    </tr>\n",
       "    <tr>\n",
       "      <th>1</th>\n",
       "      <td>5008.78</td>\n",
       "      <td>777.10</td>\n",
       "      <td>7.48</td>\n",
       "      <td>14.69</td>\n",
       "      <td>598</td>\n",
       "      <td>Electronics Repair</td>\n",
       "      <td>3.46</td>\n",
       "      <td>Evening</td>\n",
       "      <td>598</td>\n",
       "      <td>CAPTCHA</td>\n",
       "    </tr>\n",
       "    <tr>\n",
       "      <th>2</th>\n",
       "      <td>15057.28</td>\n",
       "      <td>592.86</td>\n",
       "      <td>2.00</td>\n",
       "      <td>28.52</td>\n",
       "      <td>436</td>\n",
       "      <td>Industrial &amp; Scientific</td>\n",
       "      <td>4.50</td>\n",
       "      <td>Evening</td>\n",
       "      <td>436</td>\n",
       "      <td>Two-Factor Authentication</td>\n",
       "    </tr>\n",
       "    <tr>\n",
       "      <th>3</th>\n",
       "      <td>64460.29</td>\n",
       "      <td>902.30</td>\n",
       "      <td>91.15</td>\n",
       "      <td>49.28</td>\n",
       "      <td>444</td>\n",
       "      <td>Food &amp; Beverage</td>\n",
       "      <td>3.26</td>\n",
       "      <td>Evening</td>\n",
       "      <td>444</td>\n",
       "      <td>Hardware Token</td>\n",
       "    </tr>\n",
       "    <tr>\n",
       "      <th>4</th>\n",
       "      <td>83425.41</td>\n",
       "      <td>359.44</td>\n",
       "      <td>54.78</td>\n",
       "      <td>59.26</td>\n",
       "      <td>536</td>\n",
       "      <td>Office Supplies</td>\n",
       "      <td>1.84</td>\n",
       "      <td>Evening</td>\n",
       "      <td>536</td>\n",
       "      <td>Push Notification Confirmation</td>\n",
       "    </tr>\n",
       "  </tbody>\n",
       "</table>\n",
       "</div>"
      ],
      "text/plain": [
       "   user_income  transaction_amount  location_distance  \\\n",
       "0     21748.03                3.33              14.55   \n",
       "1      5008.78              777.10               7.48   \n",
       "2     15057.28              592.86               2.00   \n",
       "3     64460.29              902.30              91.15   \n",
       "4     83425.41              359.44              54.78   \n",
       "\n",
       "   time_taken_for_transaction  user's_credit_score        merchant_category  \\\n",
       "0                       28.16                  401  Industrial & Scientific   \n",
       "1                       14.69                  598       Electronics Repair   \n",
       "2                       28.52                  436  Industrial & Scientific   \n",
       "3                       49.28                  444          Food & Beverage   \n",
       "4                       59.26                  536          Office Supplies   \n",
       "\n",
       "   merchant's_reputation_score transaction_time_of_day  user's_credit_score  \\\n",
       "0                         4.56               Nighttime                  401   \n",
       "1                         3.46                 Evening                  598   \n",
       "2                         4.50                 Evening                  436   \n",
       "3                         3.26                 Evening                  444   \n",
       "4                         1.84                 Evening                  536   \n",
       "\n",
       "  transaction_authentication_method  \n",
       "0                    Time-Based OTP  \n",
       "1                           CAPTCHA  \n",
       "2         Two-Factor Authentication  \n",
       "3                    Hardware Token  \n",
       "4    Push Notification Confirmation  "
      ]
     },
     "execution_count": 103,
     "metadata": {},
     "output_type": "execute_result"
    }
   ],
   "source": [
    "print(X_train.shape)\n",
    "print(X_test.shape)\n",
    "print(y_train.shape)\n",
    "print(y_test.shape)\n",
    "X_train.head()"
   ]
  },
  {
   "cell_type": "markdown",
   "metadata": {},
   "source": [
    "### Model selection and fitting"
   ]
  },
  {
   "cell_type": "code",
   "execution_count": 104,
   "metadata": {},
   "outputs": [
    {
     "name": "stdout",
     "output_type": "stream",
     "text": [
      "Unexpected exception formatting exception. Falling back to standard exception\n"
     ]
    },
    {
     "name": "stderr",
     "output_type": "stream",
     "text": [
      "Traceback (most recent call last):\n",
      "  File \"c:\\Users\\Latitude E7270\\AppData\\Local\\Programs\\Python\\Python311\\Lib\\site-packages\\IPython\\core\\interactiveshell.py\", line 3508, in run_code\n",
      "    exec(code_obj, self.user_global_ns, self.user_ns)\n",
      "  File \"C:\\Users\\Latitude E7270\\AppData\\Local\\Temp\\ipykernel_12984\\3289419558.py\", line 4, in <module>\n",
      "    XGmodel.fit(X_train, y_train)\n",
      "  File \"c:\\Users\\Latitude E7270\\AppData\\Local\\Programs\\Python\\Python311\\Lib\\site-packages\\xgboost\\core.py\", line 620, in inner_f\n",
      "    ):\n",
      "      \n",
      "  File \"c:\\Users\\Latitude E7270\\AppData\\Local\\Programs\\Python\\Python311\\Lib\\site-packages\\xgboost\\sklearn.py\", line 1471, in fit\n",
      "  File \"c:\\Users\\Latitude E7270\\AppData\\Local\\Programs\\Python\\Python311\\Lib\\site-packages\\xgboost\\sklearn.py\", line 448, in _wrap_evaluation_matrices\n",
      "  File \"c:\\Users\\Latitude E7270\\AppData\\Local\\Programs\\Python\\Python311\\Lib\\site-packages\\xgboost\\sklearn.py\", line 908, in _create_dmatrix\n",
      "    from_fit = True\n",
      "       ^^^^^^^^^^^^\n",
      "  File \"c:\\Users\\Latitude E7270\\AppData\\Local\\Programs\\Python\\Python311\\Lib\\site-packages\\xgboost\\core.py\", line 620, in inner_f\n",
      "    ):\n",
      "      \n",
      "  File \"c:\\Users\\Latitude E7270\\AppData\\Local\\Programs\\Python\\Python311\\Lib\\site-packages\\xgboost\\core.py\", line 743, in __init__\n",
      "    ROW = 0\n",
      "           \n",
      "  File \"c:\\Users\\Latitude E7270\\AppData\\Local\\Programs\\Python\\Python311\\Lib\\site-packages\\xgboost\\data.py\", line 957, in dispatch_data_backend\n",
      "  File \"c:\\Users\\Latitude E7270\\AppData\\Local\\Programs\\Python\\Python311\\Lib\\site-packages\\xgboost\\data.py\", line 404, in _from_pandas_df\n",
      "    # Not yet supported, the index is not ordered for some reason. Alternately:\n",
      "                                     ^^^^^^^^^^^^^^^^^^^^^^^^^^^^^^^^^^^^^^^^^^\n",
      "  File \"c:\\Users\\Latitude E7270\\AppData\\Local\\Programs\\Python\\Python311\\Lib\\site-packages\\xgboost\\data.py\", line 378, in _transform_pandas_df\n",
      "  File \"c:\\Users\\Latitude E7270\\AppData\\Local\\Programs\\Python\\Python311\\Lib\\site-packages\\xgboost\\data.py\", line 270, in _invalid_dataframe_dtype\n",
      "    \"int32[pyarrow]\": \"i\",\n",
      "    ^^^^^^^^^^^^^^^^^^^^^\n",
      "ValueError: DataFrame.dtypes for data must be int, float, bool or category. When categorical type is supplied, The experimental DMatrix parameter`enable_categorical` must be set to `True`.  Invalid columns:merchant_category: object, transaction_time_of_day: object, transaction_authentication_method: object\n",
      "\n",
      "During handling of the above exception, another exception occurred:\n",
      "\n",
      "Traceback (most recent call last):\n",
      "  File \"c:\\Users\\Latitude E7270\\AppData\\Local\\Programs\\Python\\Python311\\Lib\\site-packages\\IPython\\core\\interactiveshell.py\", line 2105, in showtraceback\n",
      "    stb = self.InteractiveTB.structured_traceback(\n",
      "          ^^^^^^^^^^^^^^^^^^^^^^^^^^^^^^^^^^^^^^^^\n",
      "  File \"c:\\Users\\Latitude E7270\\AppData\\Local\\Programs\\Python\\Python311\\Lib\\site-packages\\IPython\\core\\ultratb.py\", line 1396, in structured_traceback\n",
      "    return FormattedTB.structured_traceback(\n",
      "           ^^^^^^^^^^^^^^^^^^^^^^^^^^^^^^^^^\n",
      "  File \"c:\\Users\\Latitude E7270\\AppData\\Local\\Programs\\Python\\Python311\\Lib\\site-packages\\IPython\\core\\ultratb.py\", line 1287, in structured_traceback\n",
      "    return VerboseTB.structured_traceback(\n",
      "           ^^^^^^^^^^^^^^^^^^^^^^^^^^^^^^^\n",
      "  File \"c:\\Users\\Latitude E7270\\AppData\\Local\\Programs\\Python\\Python311\\Lib\\site-packages\\IPython\\core\\ultratb.py\", line 1140, in structured_traceback\n",
      "    formatted_exception = self.format_exception_as_a_whole(etype, evalue, etb, number_of_lines_of_context,\n",
      "                          ^^^^^^^^^^^^^^^^^^^^^^^^^^^^^^^^^^^^^^^^^^^^^^^^^^^^^^^^^^^^^^^^^^^^^^^^^^^^^^^^\n",
      "  File \"c:\\Users\\Latitude E7270\\AppData\\Local\\Programs\\Python\\Python311\\Lib\\site-packages\\IPython\\core\\ultratb.py\", line 1055, in format_exception_as_a_whole\n",
      "    frames.append(self.format_record(record))\n",
      "                  ^^^^^^^^^^^^^^^^^^^^^^^^^^\n",
      "  File \"c:\\Users\\Latitude E7270\\AppData\\Local\\Programs\\Python\\Python311\\Lib\\site-packages\\IPython\\core\\ultratb.py\", line 955, in format_record\n",
      "    frame_info.lines, Colors, self.has_colors, lvals\n",
      "    ^^^^^^^^^^^^^^^^\n",
      "  File \"c:\\Users\\Latitude E7270\\AppData\\Local\\Programs\\Python\\Python311\\Lib\\site-packages\\IPython\\core\\ultratb.py\", line 778, in lines\n",
      "    return self._sd.lines\n",
      "           ^^^^^^^^^^^^^^\n",
      "  File \"C:\\Users\\Latitude E7270\\AppData\\Roaming\\Python\\Python311\\site-packages\\stack_data\\utils.py\", line 144, in cached_property_wrapper\n",
      "    value = obj.__dict__[self.func.__name__] = self.func(obj)\n",
      "                                               ^^^^^^^^^^^^^^\n",
      "  File \"C:\\Users\\Latitude E7270\\AppData\\Roaming\\Python\\Python311\\site-packages\\stack_data\\core.py\", line 734, in lines\n",
      "    pieces = self.included_pieces\n",
      "             ^^^^^^^^^^^^^^^^^^^^\n",
      "  File \"C:\\Users\\Latitude E7270\\AppData\\Roaming\\Python\\Python311\\site-packages\\stack_data\\utils.py\", line 144, in cached_property_wrapper\n",
      "    value = obj.__dict__[self.func.__name__] = self.func(obj)\n",
      "                                               ^^^^^^^^^^^^^^\n",
      "  File \"C:\\Users\\Latitude E7270\\AppData\\Roaming\\Python\\Python311\\site-packages\\stack_data\\core.py\", line 681, in included_pieces\n",
      "    pos = scope_pieces.index(self.executing_piece)\n",
      "                             ^^^^^^^^^^^^^^^^^^^^\n",
      "  File \"C:\\Users\\Latitude E7270\\AppData\\Roaming\\Python\\Python311\\site-packages\\stack_data\\utils.py\", line 144, in cached_property_wrapper\n",
      "    value = obj.__dict__[self.func.__name__] = self.func(obj)\n",
      "                                               ^^^^^^^^^^^^^^\n",
      "  File \"C:\\Users\\Latitude E7270\\AppData\\Roaming\\Python\\Python311\\site-packages\\stack_data\\core.py\", line 660, in executing_piece\n",
      "    return only(\n",
      "           ^^^^^\n",
      "  File \"C:\\Users\\Latitude E7270\\AppData\\Roaming\\Python\\Python311\\site-packages\\executing\\executing.py\", line 190, in only\n",
      "    raise NotOneValueFound('Expected one value, found 0')\n",
      "executing.executing.NotOneValueFound: Expected one value, found 0\n"
     ]
    }
   ],
   "source": [
    "XGmodel = XGBClassifier(n_estimators=2, max_depth=2,\n",
    "                        learning_rate=1, objective='binary:logistic')\n",
    "\n",
    "XGmodel.fit(X_train, y_train)"
   ]
  },
  {
   "cell_type": "code",
   "execution_count": 105,
   "metadata": {},
   "outputs": [
    {
     "ename": "NotFittedError",
     "evalue": "need to call fit or load_model beforehand",
     "output_type": "error",
     "traceback": [
      "\u001b[1;31m---------------------------------------------------------------------------\u001b[0m",
      "\u001b[1;31mNotFittedError\u001b[0m                            Traceback (most recent call last)",
      "\u001b[1;32mc:\\Users\\Latitude E7270\\Desktop\\DataFest datathon\\fraud.ipynb Cell 17\u001b[0m line \u001b[0;36m1\n\u001b[1;32m----> <a href='vscode-notebook-cell:/c%3A/Users/Latitude%20E7270/Desktop/DataFest%20datathon/fraud.ipynb#X26sZmlsZQ%3D%3D?line=0'>1</a>\u001b[0m y_pred \u001b[39m=\u001b[39m XGmodel\u001b[39m.\u001b[39;49mpredict(X_test)\n\u001b[0;32m      <a href='vscode-notebook-cell:/c%3A/Users/Latitude%20E7270/Desktop/DataFest%20datathon/fraud.ipynb#X26sZmlsZQ%3D%3D?line=2'>3</a>\u001b[0m accuracy_score(y_pred, y_test)\n",
      "File \u001b[1;32mc:\\Users\\Latitude E7270\\AppData\\Local\\Programs\\Python\\Python311\\Lib\\site-packages\\xgboost\\sklearn.py:1525\u001b[0m, in \u001b[0;36mpredict\u001b[1;34m(self, X, output_margin, ntree_limit, validate_features, base_margin, iteration_range)\u001b[0m\n\u001b[0;32m   1487\u001b[0m (\n\u001b[0;32m   1488\u001b[0m     model,\n\u001b[0;32m   1489\u001b[0m     metric,\n\u001b[1;32m   (...)\u001b[0m\n\u001b[0;32m   1494\u001b[0m     xgb_model, eval_metric, params, early_stopping_rounds, callbacks\n\u001b[0;32m   1495\u001b[0m )\n\u001b[0;32m   1496\u001b[0m train_dmatrix, evals \u001b[39m=\u001b[39m _wrap_evaluation_matrices(\n\u001b[0;32m   1497\u001b[0m     missing\u001b[39m=\u001b[39m\u001b[39mself\u001b[39m\u001b[39m.\u001b[39mmissing,\n\u001b[0;32m   1498\u001b[0m     X\u001b[39m=\u001b[39mX,\n\u001b[1;32m   (...)\u001b[0m\n\u001b[0;32m   1512\u001b[0m     feature_types\u001b[39m=\u001b[39m\u001b[39mself\u001b[39m\u001b[39m.\u001b[39mfeature_types,\n\u001b[0;32m   1513\u001b[0m )\n\u001b[0;32m   1515\u001b[0m \u001b[39mself\u001b[39m\u001b[39m.\u001b[39m_Booster \u001b[39m=\u001b[39m train(\n\u001b[0;32m   1516\u001b[0m     params,\n\u001b[0;32m   1517\u001b[0m     train_dmatrix,\n\u001b[0;32m   1518\u001b[0m     \u001b[39mself\u001b[39m\u001b[39m.\u001b[39mget_num_boosting_rounds(),\n\u001b[0;32m   1519\u001b[0m     evals\u001b[39m=\u001b[39mevals,\n\u001b[0;32m   1520\u001b[0m     early_stopping_rounds\u001b[39m=\u001b[39mearly_stopping_rounds,\n\u001b[0;32m   1521\u001b[0m     evals_result\u001b[39m=\u001b[39mevals_result,\n\u001b[0;32m   1522\u001b[0m     obj\u001b[39m=\u001b[39mobj,\n\u001b[0;32m   1523\u001b[0m     custom_metric\u001b[39m=\u001b[39mmetric,\n\u001b[0;32m   1524\u001b[0m     verbose_eval\u001b[39m=\u001b[39mverbose,\n\u001b[1;32m-> 1525\u001b[0m     xgb_model\u001b[39m=\u001b[39mmodel,\n\u001b[0;32m   1526\u001b[0m     callbacks\u001b[39m=\u001b[39mcallbacks,\n\u001b[0;32m   1527\u001b[0m )\n\u001b[0;32m   1529\u001b[0m \u001b[39mif\u001b[39;00m \u001b[39mnot\u001b[39;00m callable(\u001b[39mself\u001b[39m\u001b[39m.\u001b[39mobjective):\n\u001b[0;32m   1530\u001b[0m     \u001b[39mself\u001b[39m\u001b[39m.\u001b[39mobjective \u001b[39m=\u001b[39m params[\u001b[39m\"\u001b[39m\u001b[39mobjective\u001b[39m\u001b[39m\"\u001b[39m]\n",
      "File \u001b[1;32mc:\\Users\\Latitude E7270\\AppData\\Local\\Programs\\Python\\Python311\\Lib\\site-packages\\xgboost\\sklearn.py:1109\u001b[0m, in \u001b[0;36mpredict\u001b[1;34m(self, X, output_margin, ntree_limit, validate_features, base_margin, iteration_range)\u001b[0m\n\u001b[0;32m   1105\u001b[0m         \u001b[39mreturn\u001b[39;00m \u001b[39mTrue\u001b[39;00m\n\u001b[0;32m   1106\u001b[0m     \u001b[39mreturn\u001b[39;00m \u001b[39mFalse\u001b[39;00m\n\u001b[0;32m   1108\u001b[0m \u001b[39mdef\u001b[39;00m \u001b[39m_get_iteration_range\u001b[39m(\n\u001b[1;32m-> 1109\u001b[0m     \u001b[39mself\u001b[39m, iteration_range: Optional[Tuple[\u001b[39mint\u001b[39m, \u001b[39mint\u001b[39m]]\n\u001b[0;32m   1110\u001b[0m ) \u001b[39m-\u001b[39m\u001b[39m>\u001b[39m Tuple[\u001b[39mint\u001b[39m, \u001b[39mint\u001b[39m]:\n\u001b[0;32m   1111\u001b[0m     \u001b[39mif\u001b[39;00m iteration_range \u001b[39mis\u001b[39;00m \u001b[39mNone\u001b[39;00m \u001b[39mor\u001b[39;00m iteration_range[\u001b[39m1\u001b[39m] \u001b[39m==\u001b[39m \u001b[39m0\u001b[39m:\n\u001b[0;32m   1112\u001b[0m         \u001b[39m# Use best_iteration if defined.\u001b[39;00m\n\u001b[0;32m   1113\u001b[0m         \u001b[39mtry\u001b[39;00m:\n",
      "File \u001b[1;32mc:\\Users\\Latitude E7270\\AppData\\Local\\Programs\\Python\\Python311\\Lib\\site-packages\\xgboost\\sklearn.py:649\u001b[0m, in \u001b[0;36mget_booster\u001b[1;34m(self)\u001b[0m\n\u001b[0;32m    623\u001b[0m \u001b[39m@xgboost_model_doc\u001b[39m(\n\u001b[0;32m    624\u001b[0m     \u001b[39m\"\"\"Implementation of the Scikit-Learn API for XGBoost.\"\"\"\u001b[39;00m,\n\u001b[0;32m    625\u001b[0m     [\u001b[39m\"\u001b[39m\u001b[39mestimators\u001b[39m\u001b[39m\"\u001b[39m, \u001b[39m\"\u001b[39m\u001b[39mmodel\u001b[39m\u001b[39m\"\u001b[39m, \u001b[39m\"\u001b[39m\u001b[39mobjective\u001b[39m\u001b[39m\"\u001b[39m],\n\u001b[0;32m    626\u001b[0m )\n\u001b[0;32m    627\u001b[0m \u001b[39mclass\u001b[39;00m \u001b[39mXGBModel\u001b[39;00m(XGBModelBase):\n\u001b[0;32m    628\u001b[0m     \u001b[39m# pylint: disable=too-many-arguments, too-many-instance-attributes, missing-docstring\u001b[39;00m\n\u001b[0;32m    629\u001b[0m     \u001b[39mdef\u001b[39;00m \u001b[39m__init__\u001b[39m(\n\u001b[0;32m    630\u001b[0m         \u001b[39mself\u001b[39m,\n\u001b[0;32m    631\u001b[0m         max_depth: Optional[\u001b[39mint\u001b[39m] \u001b[39m=\u001b[39m \u001b[39mNone\u001b[39;00m,\n\u001b[0;32m    632\u001b[0m         max_leaves: Optional[\u001b[39mint\u001b[39m] \u001b[39m=\u001b[39m \u001b[39mNone\u001b[39;00m,\n\u001b[0;32m    633\u001b[0m         max_bin: Optional[\u001b[39mint\u001b[39m] \u001b[39m=\u001b[39m \u001b[39mNone\u001b[39;00m,\n\u001b[0;32m    634\u001b[0m         grow_policy: Optional[\u001b[39mstr\u001b[39m] \u001b[39m=\u001b[39m \u001b[39mNone\u001b[39;00m,\n\u001b[0;32m    635\u001b[0m         learning_rate: Optional[\u001b[39mfloat\u001b[39m] \u001b[39m=\u001b[39m \u001b[39mNone\u001b[39;00m,\n\u001b[0;32m    636\u001b[0m         n_estimators: Optional[\u001b[39mint\u001b[39m] \u001b[39m=\u001b[39m \u001b[39mNone\u001b[39;00m,\n\u001b[0;32m    637\u001b[0m         verbosity: Optional[\u001b[39mint\u001b[39m] \u001b[39m=\u001b[39m \u001b[39mNone\u001b[39;00m,\n\u001b[0;32m    638\u001b[0m         objective: SklObjective \u001b[39m=\u001b[39m \u001b[39mNone\u001b[39;00m,\n\u001b[0;32m    639\u001b[0m         booster: Optional[\u001b[39mstr\u001b[39m] \u001b[39m=\u001b[39m \u001b[39mNone\u001b[39;00m,\n\u001b[0;32m    640\u001b[0m         tree_method: Optional[\u001b[39mstr\u001b[39m] \u001b[39m=\u001b[39m \u001b[39mNone\u001b[39;00m,\n\u001b[0;32m    641\u001b[0m         n_jobs: Optional[\u001b[39mint\u001b[39m] \u001b[39m=\u001b[39m \u001b[39mNone\u001b[39;00m,\n\u001b[0;32m    642\u001b[0m         gamma: Optional[\u001b[39mfloat\u001b[39m] \u001b[39m=\u001b[39m \u001b[39mNone\u001b[39;00m,\n\u001b[0;32m    643\u001b[0m         min_child_weight: Optional[\u001b[39mfloat\u001b[39m] \u001b[39m=\u001b[39m \u001b[39mNone\u001b[39;00m,\n\u001b[0;32m    644\u001b[0m         max_delta_step: Optional[\u001b[39mfloat\u001b[39m] \u001b[39m=\u001b[39m \u001b[39mNone\u001b[39;00m,\n\u001b[0;32m    645\u001b[0m         subsample: Optional[\u001b[39mfloat\u001b[39m] \u001b[39m=\u001b[39m \u001b[39mNone\u001b[39;00m,\n\u001b[0;32m    646\u001b[0m         sampling_method: Optional[\u001b[39mstr\u001b[39m] \u001b[39m=\u001b[39m \u001b[39mNone\u001b[39;00m,\n\u001b[0;32m    647\u001b[0m         colsample_bytree: Optional[\u001b[39mfloat\u001b[39m] \u001b[39m=\u001b[39m \u001b[39mNone\u001b[39;00m,\n\u001b[0;32m    648\u001b[0m         colsample_bylevel: Optional[\u001b[39mfloat\u001b[39m] \u001b[39m=\u001b[39m \u001b[39mNone\u001b[39;00m,\n\u001b[1;32m--> 649\u001b[0m         colsample_bynode: Optional[\u001b[39mfloat\u001b[39m] \u001b[39m=\u001b[39m \u001b[39mNone\u001b[39;00m,\n\u001b[0;32m    650\u001b[0m         reg_alpha: Optional[\u001b[39mfloat\u001b[39m] \u001b[39m=\u001b[39m \u001b[39mNone\u001b[39;00m,\n\u001b[0;32m    651\u001b[0m         reg_lambda: Optional[\u001b[39mfloat\u001b[39m] \u001b[39m=\u001b[39m \u001b[39mNone\u001b[39;00m,\n\u001b[0;32m    652\u001b[0m         scale_pos_weight: Optional[\u001b[39mfloat\u001b[39m] \u001b[39m=\u001b[39m \u001b[39mNone\u001b[39;00m,\n\u001b[0;32m    653\u001b[0m         base_score: Optional[\u001b[39mfloat\u001b[39m] \u001b[39m=\u001b[39m \u001b[39mNone\u001b[39;00m,\n\u001b[0;32m    654\u001b[0m         random_state: Optional[Union[np\u001b[39m.\u001b[39mrandom\u001b[39m.\u001b[39mRandomState, \u001b[39mint\u001b[39m]] \u001b[39m=\u001b[39m \u001b[39mNone\u001b[39;00m,\n\u001b[0;32m    655\u001b[0m         missing: \u001b[39mfloat\u001b[39m \u001b[39m=\u001b[39m np\u001b[39m.\u001b[39mnan,\n\u001b[0;32m    656\u001b[0m         num_parallel_tree: Optional[\u001b[39mint\u001b[39m] \u001b[39m=\u001b[39m \u001b[39mNone\u001b[39;00m,\n\u001b[0;32m    657\u001b[0m         monotone_constraints: Optional[Union[Dict[\u001b[39mstr\u001b[39m, \u001b[39mint\u001b[39m], \u001b[39mstr\u001b[39m]] \u001b[39m=\u001b[39m \u001b[39mNone\u001b[39;00m,\n\u001b[0;32m    658\u001b[0m         interaction_constraints: Optional[Union[\u001b[39mstr\u001b[39m, Sequence[Sequence[\u001b[39mstr\u001b[39m]]]] \u001b[39m=\u001b[39m \u001b[39mNone\u001b[39;00m,\n\u001b[0;32m    659\u001b[0m         importance_type: Optional[\u001b[39mstr\u001b[39m] \u001b[39m=\u001b[39m \u001b[39mNone\u001b[39;00m,\n\u001b[0;32m    660\u001b[0m         device: Optional[\u001b[39mstr\u001b[39m] \u001b[39m=\u001b[39m \u001b[39mNone\u001b[39;00m,\n\u001b[0;32m    661\u001b[0m         validate_parameters: Optional[\u001b[39mbool\u001b[39m] \u001b[39m=\u001b[39m \u001b[39mNone\u001b[39;00m,\n\u001b[0;32m    662\u001b[0m         enable_categorical: \u001b[39mbool\u001b[39m \u001b[39m=\u001b[39m \u001b[39mFalse\u001b[39;00m,\n\u001b[0;32m    663\u001b[0m         feature_types: Optional[FeatureTypes] \u001b[39m=\u001b[39m \u001b[39mNone\u001b[39;00m,\n\u001b[0;32m    664\u001b[0m         max_cat_to_onehot: Optional[\u001b[39mint\u001b[39m] \u001b[39m=\u001b[39m \u001b[39mNone\u001b[39;00m,\n\u001b[0;32m    665\u001b[0m         max_cat_threshold: Optional[\u001b[39mint\u001b[39m] \u001b[39m=\u001b[39m \u001b[39mNone\u001b[39;00m,\n\u001b[0;32m    666\u001b[0m         multi_strategy: Optional[\u001b[39mstr\u001b[39m] \u001b[39m=\u001b[39m \u001b[39mNone\u001b[39;00m,\n\u001b[0;32m    667\u001b[0m         eval_metric: Optional[Union[\u001b[39mstr\u001b[39m, List[\u001b[39mstr\u001b[39m], Callable]] \u001b[39m=\u001b[39m \u001b[39mNone\u001b[39;00m,\n\u001b[0;32m    668\u001b[0m         early_stopping_rounds: Optional[\u001b[39mint\u001b[39m] \u001b[39m=\u001b[39m \u001b[39mNone\u001b[39;00m,\n\u001b[0;32m    669\u001b[0m         callbacks: Optional[List[TrainingCallback]] \u001b[39m=\u001b[39m \u001b[39mNone\u001b[39;00m,\n\u001b[0;32m    670\u001b[0m         \u001b[39m*\u001b[39m\u001b[39m*\u001b[39mkwargs: Any,\n\u001b[0;32m    671\u001b[0m     ) \u001b[39m-\u001b[39m\u001b[39m>\u001b[39m \u001b[39mNone\u001b[39;00m:\n\u001b[0;32m    672\u001b[0m         \u001b[39mif\u001b[39;00m \u001b[39mnot\u001b[39;00m SKLEARN_INSTALLED:\n\u001b[0;32m    673\u001b[0m             \u001b[39mraise\u001b[39;00m \u001b[39mImportError\u001b[39;00m(\n\u001b[0;32m    674\u001b[0m                 \u001b[39m\"\u001b[39m\u001b[39msklearn needs to be installed in order to use this module\u001b[39m\u001b[39m\"\u001b[39m\n\u001b[0;32m    675\u001b[0m             )\n",
      "\u001b[1;31mNotFittedError\u001b[0m: need to call fit or load_model beforehand"
     ]
    }
   ],
   "source": [
    "y_pred = XGmodel.predict(X_test)\n",
    "\n",
    "accuracy_score(y_pred, y_test)"
   ]
  },
  {
   "cell_type": "code",
   "execution_count": null,
   "metadata": {},
   "outputs": [
    {
     "name": "stdout",
     "output_type": "stream",
     "text": [
      "              precision    recall  f1-score   support\n",
      "\n",
      "           0       0.50      0.05      0.09    900156\n",
      "           1       0.50      0.95      0.66    899844\n",
      "\n",
      "    accuracy                           0.50   1800000\n",
      "   macro avg       0.50      0.50      0.37   1800000\n",
      "weighted avg       0.50      0.50      0.37   1800000\n",
      "\n"
     ]
    }
   ],
   "source": [
    "print(classification_report(y_test, y_pred))"
   ]
  }
 ],
 "metadata": {
  "kernelspec": {
   "display_name": "Python 3",
   "language": "python",
   "name": "python3"
  },
  "language_info": {
   "codemirror_mode": {
    "name": "ipython",
    "version": 3
   },
   "file_extension": ".py",
   "mimetype": "text/x-python",
   "name": "python",
   "nbconvert_exporter": "python",
   "pygments_lexer": "ipython3",
   "version": "3.11.0"
  },
  "orig_nbformat": 4
 },
 "nbformat": 4,
 "nbformat_minor": 2
}
